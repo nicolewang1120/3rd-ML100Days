{
 "cells": [
  {
   "cell_type": "markdown",
   "metadata": {
    "_cell_guid": "7238ae8d-73dc-474b-9d36-92647cdc6030",
    "_execution_state": "idle",
    "_uuid": "691c624259cf2737f7e29c2fdbbc7f255e842eb2"
   },
   "source": [
    "#Stacked Regressions to predict House Prices \n",
    "\n",
    "\n",
    "##Serigne\n",
    "\n",
    "**July 2017**\n",
    "\n",
    "**If you use parts of this notebook in your scripts/notebooks, giving  some kind of credit would be very much appreciated :)  You can for instance link back to this notebook. Thanks!**"
   ]
  },
  {
   "cell_type": "markdown",
   "metadata": {
    "_cell_guid": "735c5797-4457-4e16-b21f-7f0982f2f016",
    "_execution_state": "idle",
    "_uuid": "35143ae31bde76e140a55855b89e0d42b56160a3"
   },
   "source": [
    "This competition is very important to me as  it helped me to begin my journey on Kaggle few months ago. I've read  some great notebooks here. To name a few:\n",
    "\n",
    "1. [Comprehensive data exploration with Python][1] by **Pedro Marcelino**  : Great and very motivational data analysis\n",
    "\n",
    "2. [A study on Regression applied to the Ames dataset][2] by **Julien Cohen-Solal**  : Thorough features engeneering and deep dive into linear regression analysis  but really easy to follow for beginners.\n",
    "\n",
    "3. [Regularized Linear Models][3] by **Alexandru Papiu**  : Great Starter kernel on modelling and Cross-validation\n",
    "\n",
    "I can't recommend enough every beginner to go carefully through these kernels (and of course through many others great kernels) and get their first insights in data science and kaggle competitions.\n",
    "\n",
    "After that (and some basic pratices) you should be more confident to go through [this great script][7] by **Human Analog**  who did an impressive work on features engeneering. \n",
    "\n",
    "As the dataset is particularly handy, I  decided few days ago to get back in this competition and apply things I learnt so far, especially stacking models. For that purpose, we build two stacking classes  ( the simplest approach and a less simple one). \n",
    "\n",
    "As these classes are written for general purpose, you can easily adapt them and/or extend them for your regression problems. \n",
    "The overall approach is  hopefully concise and easy to follow.. \n",
    "\n",
    "The features engeneering is rather parsimonious (at least compared to some others great scripts) . It is pretty much :\n",
    "\n",
    "- **Imputing missing values**  by proceeding sequentially through the data\n",
    "\n",
    "- **Transforming** some numerical variables that seem really categorical\n",
    "\n",
    "- **Label Encoding** some categorical variables that may contain information in their ordering set\n",
    "\n",
    "-  [**Box Cox Transformation**][4] of skewed features (instead of log-transformation) : This gave me a **slightly better result** both on leaderboard and cross-validation.\n",
    "\n",
    "- ** Getting dummy variables** for categorical features. \n",
    "\n",
    "Then we choose many base models (mostly sklearn based models + sklearn API of  DMLC's [XGBoost][5] and Microsoft's [LightGBM][6]), cross-validate them on the data before stacking/ensembling them. The key here is to make the (linear) models robust to outliers. This improved the result both on LB and cross-validation. \n",
    "\n",
    "  [1]: https://www.kaggle.com/pmarcelino/comprehensive-data-exploration-with-python\n",
    "  [2]:https://www.kaggle.com/juliencs/a-study-on-regression-applied-to-the-ames-dataset\n",
    "  [3]: https://www.kaggle.com/apapiu/regularized-linear-models\n",
    "  [4]: http://onlinestatbook.com/2/transformations/box-cox.html\n",
    "  [5]: https://github.com/dmlc/xgboost\n",
    " [6]: https://github.com/Microsoft/LightGBM\n",
    " [7]: https://www.kaggle.com/humananalog/xgboost-lasso\n",
    "\n",
    "To my surprise, this does well on LB ( 0.11420 and top 4% the last time I tested it : **July 2, 2017** )\n",
    "\n"
   ]
  },
  {
   "cell_type": "markdown",
   "metadata": {
    "_cell_guid": "d006e9e6-e191-4918-b8c1-5730f1d08e77",
    "_uuid": "ae5d947988d70f9ccbea3345f396c8394e7b1e4b"
   },
   "source": [
    "**Hope that at the end of this notebook, stacking will be clear for those, like myself, who found the concept not so easy to grasp**"
   ]
  },
  {
   "cell_type": "code",
   "execution_count": 2,
   "metadata": {
    "_cell_guid": "2dbccbd6-138b-4f1b-9b23-fd60c7525c14",
    "_execution_state": "idle",
    "_uuid": "c9b1d5dff21d39260eb47af6fe7aac4bd03be233"
   },
   "outputs": [
    {
     "name": "stdout",
     "output_type": "stream",
     "text": [
      "HomeCredit_columns_description.csv\n",
      "Midterm\n",
      "POS_CASH_balance.csv\n",
      "application_test.csv\n",
      "application_train.csv\n",
      "bureau.csv\n",
      "bureau_balance.csv\n",
      "credit_card_balance.csv\n",
      "example.jpg\n",
      "example.mat\n",
      "example.npy\n",
      "example.pkl\n",
      "example.txt\n",
      "example01.json\n",
      "example02.json\n",
      "house_test.csv\n",
      "house_train.csv\n",
      "installments_payments.csv\n",
      "previous_application.csv\n",
      "sample_submission.csv\n",
      "scikit-learn\n",
      "taxi_data1.csv\n",
      "taxi_data2.csv\n",
      "titanic_test.csv\n",
      "titanic_train.csv\n",
      "\n"
     ]
    }
   ],
   "source": [
    "#import some necessary librairies\n",
    "\n",
    "import numpy as np # linear algebra\n",
    "import pandas as pd # data processing, CSV file I/O (e.g. pd.read_csv)\n",
    "%matplotlib inline\n",
    "import matplotlib.pyplot as plt  # Matlab-style plotting\n",
    "import seaborn as sns\n",
    "color = sns.color_palette()\n",
    "sns.set_style('darkgrid')\n",
    "import warnings\n",
    "def ignore_warn(*args, **kwargs):\n",
    "    pass\n",
    "warnings.warn = ignore_warn #ignore annoying warning (from sklearn and seaborn)\n",
    "\n",
    "\n",
    "from scipy import stats\n",
    "from scipy.stats import norm, skew #for some statistics\n",
    "\n",
    "\n",
    "pd.set_option('display.float_format', lambda x: '{:.3f}'.format(x)) #Limiting floats output to 3 decimal points\n",
    "\n",
    "\n",
    "from subprocess import check_output\n",
    "print(check_output([\"ls\", \"/Users/maylin/Documents/Data/\"]).decode(\"utf8\")) #check the files available in the directory"
   ]
  },
  {
   "cell_type": "code",
   "execution_count": 3,
   "metadata": {
    "_cell_guid": "59617b4b-d797-44ce-9142-05fbfd36aada",
    "_execution_state": "idle",
    "_uuid": "0e694d13459e3e200f6e2c6333c887cbad779ba9"
   },
   "outputs": [],
   "source": [
    "#Now let's import and put the train and test datasets in  pandas dataframe\n",
    "\n",
    "train = pd.read_csv('/Users/maylin/Documents/Data/house_train.csv')\n",
    "test = pd.read_csv('/Users/maylin/Documents/Data/house_test.csv')\n"
   ]
  },
  {
   "cell_type": "code",
   "execution_count": 4,
   "metadata": {
    "_cell_guid": "3678529f-9d76-4853-88c5-4b2d230a85b6",
    "_execution_state": "idle",
    "_uuid": "3a32f51460a02fbe7a9122db55a740eb378dda97"
   },
   "outputs": [
    {
     "data": {
      "text/html": [
       "<div>\n",
       "<style scoped>\n",
       "    .dataframe tbody tr th:only-of-type {\n",
       "        vertical-align: middle;\n",
       "    }\n",
       "\n",
       "    .dataframe tbody tr th {\n",
       "        vertical-align: top;\n",
       "    }\n",
       "\n",
       "    .dataframe thead th {\n",
       "        text-align: right;\n",
       "    }\n",
       "</style>\n",
       "<table border=\"1\" class=\"dataframe\">\n",
       "  <thead>\n",
       "    <tr style=\"text-align: right;\">\n",
       "      <th></th>\n",
       "      <th>Id</th>\n",
       "      <th>MSSubClass</th>\n",
       "      <th>MSZoning</th>\n",
       "      <th>LotFrontage</th>\n",
       "      <th>LotArea</th>\n",
       "      <th>Street</th>\n",
       "      <th>Alley</th>\n",
       "      <th>LotShape</th>\n",
       "      <th>LandContour</th>\n",
       "      <th>Utilities</th>\n",
       "      <th>...</th>\n",
       "      <th>PoolArea</th>\n",
       "      <th>PoolQC</th>\n",
       "      <th>Fence</th>\n",
       "      <th>MiscFeature</th>\n",
       "      <th>MiscVal</th>\n",
       "      <th>MoSold</th>\n",
       "      <th>YrSold</th>\n",
       "      <th>SaleType</th>\n",
       "      <th>SaleCondition</th>\n",
       "      <th>SalePrice</th>\n",
       "    </tr>\n",
       "  </thead>\n",
       "  <tbody>\n",
       "    <tr>\n",
       "      <th>0</th>\n",
       "      <td>1</td>\n",
       "      <td>60</td>\n",
       "      <td>RL</td>\n",
       "      <td>65.000</td>\n",
       "      <td>8450</td>\n",
       "      <td>Pave</td>\n",
       "      <td>NaN</td>\n",
       "      <td>Reg</td>\n",
       "      <td>Lvl</td>\n",
       "      <td>AllPub</td>\n",
       "      <td>...</td>\n",
       "      <td>0</td>\n",
       "      <td>NaN</td>\n",
       "      <td>NaN</td>\n",
       "      <td>NaN</td>\n",
       "      <td>0</td>\n",
       "      <td>2</td>\n",
       "      <td>2008</td>\n",
       "      <td>WD</td>\n",
       "      <td>Normal</td>\n",
       "      <td>208500</td>\n",
       "    </tr>\n",
       "    <tr>\n",
       "      <th>1</th>\n",
       "      <td>2</td>\n",
       "      <td>20</td>\n",
       "      <td>RL</td>\n",
       "      <td>80.000</td>\n",
       "      <td>9600</td>\n",
       "      <td>Pave</td>\n",
       "      <td>NaN</td>\n",
       "      <td>Reg</td>\n",
       "      <td>Lvl</td>\n",
       "      <td>AllPub</td>\n",
       "      <td>...</td>\n",
       "      <td>0</td>\n",
       "      <td>NaN</td>\n",
       "      <td>NaN</td>\n",
       "      <td>NaN</td>\n",
       "      <td>0</td>\n",
       "      <td>5</td>\n",
       "      <td>2007</td>\n",
       "      <td>WD</td>\n",
       "      <td>Normal</td>\n",
       "      <td>181500</td>\n",
       "    </tr>\n",
       "    <tr>\n",
       "      <th>2</th>\n",
       "      <td>3</td>\n",
       "      <td>60</td>\n",
       "      <td>RL</td>\n",
       "      <td>68.000</td>\n",
       "      <td>11250</td>\n",
       "      <td>Pave</td>\n",
       "      <td>NaN</td>\n",
       "      <td>IR1</td>\n",
       "      <td>Lvl</td>\n",
       "      <td>AllPub</td>\n",
       "      <td>...</td>\n",
       "      <td>0</td>\n",
       "      <td>NaN</td>\n",
       "      <td>NaN</td>\n",
       "      <td>NaN</td>\n",
       "      <td>0</td>\n",
       "      <td>9</td>\n",
       "      <td>2008</td>\n",
       "      <td>WD</td>\n",
       "      <td>Normal</td>\n",
       "      <td>223500</td>\n",
       "    </tr>\n",
       "    <tr>\n",
       "      <th>3</th>\n",
       "      <td>4</td>\n",
       "      <td>70</td>\n",
       "      <td>RL</td>\n",
       "      <td>60.000</td>\n",
       "      <td>9550</td>\n",
       "      <td>Pave</td>\n",
       "      <td>NaN</td>\n",
       "      <td>IR1</td>\n",
       "      <td>Lvl</td>\n",
       "      <td>AllPub</td>\n",
       "      <td>...</td>\n",
       "      <td>0</td>\n",
       "      <td>NaN</td>\n",
       "      <td>NaN</td>\n",
       "      <td>NaN</td>\n",
       "      <td>0</td>\n",
       "      <td>2</td>\n",
       "      <td>2006</td>\n",
       "      <td>WD</td>\n",
       "      <td>Abnorml</td>\n",
       "      <td>140000</td>\n",
       "    </tr>\n",
       "    <tr>\n",
       "      <th>4</th>\n",
       "      <td>5</td>\n",
       "      <td>60</td>\n",
       "      <td>RL</td>\n",
       "      <td>84.000</td>\n",
       "      <td>14260</td>\n",
       "      <td>Pave</td>\n",
       "      <td>NaN</td>\n",
       "      <td>IR1</td>\n",
       "      <td>Lvl</td>\n",
       "      <td>AllPub</td>\n",
       "      <td>...</td>\n",
       "      <td>0</td>\n",
       "      <td>NaN</td>\n",
       "      <td>NaN</td>\n",
       "      <td>NaN</td>\n",
       "      <td>0</td>\n",
       "      <td>12</td>\n",
       "      <td>2008</td>\n",
       "      <td>WD</td>\n",
       "      <td>Normal</td>\n",
       "      <td>250000</td>\n",
       "    </tr>\n",
       "  </tbody>\n",
       "</table>\n",
       "<p>5 rows × 81 columns</p>\n",
       "</div>"
      ],
      "text/plain": [
       "   Id  MSSubClass MSZoning  LotFrontage  LotArea Street Alley LotShape  \\\n",
       "0   1          60       RL       65.000     8450   Pave   NaN      Reg   \n",
       "1   2          20       RL       80.000     9600   Pave   NaN      Reg   \n",
       "2   3          60       RL       68.000    11250   Pave   NaN      IR1   \n",
       "3   4          70       RL       60.000     9550   Pave   NaN      IR1   \n",
       "4   5          60       RL       84.000    14260   Pave   NaN      IR1   \n",
       "\n",
       "  LandContour Utilities  ... PoolArea PoolQC Fence MiscFeature MiscVal MoSold  \\\n",
       "0         Lvl    AllPub  ...        0    NaN   NaN         NaN       0      2   \n",
       "1         Lvl    AllPub  ...        0    NaN   NaN         NaN       0      5   \n",
       "2         Lvl    AllPub  ...        0    NaN   NaN         NaN       0      9   \n",
       "3         Lvl    AllPub  ...        0    NaN   NaN         NaN       0      2   \n",
       "4         Lvl    AllPub  ...        0    NaN   NaN         NaN       0     12   \n",
       "\n",
       "  YrSold  SaleType  SaleCondition  SalePrice  \n",
       "0   2008        WD         Normal     208500  \n",
       "1   2007        WD         Normal     181500  \n",
       "2   2008        WD         Normal     223500  \n",
       "3   2006        WD        Abnorml     140000  \n",
       "4   2008        WD         Normal     250000  \n",
       "\n",
       "[5 rows x 81 columns]"
      ]
     },
     "execution_count": 4,
     "metadata": {},
     "output_type": "execute_result"
    }
   ],
   "source": [
    "##display the first five rows of the train dataset.\n",
    "train.head(5)"
   ]
  },
  {
   "cell_type": "code",
   "execution_count": 5,
   "metadata": {
    "_cell_guid": "ff37c1ba-8679-49e0-b3c8-9c53d01b1b04",
    "_execution_state": "idle",
    "_uuid": "816b1463b3dd0daf44949a1fa15ebfbc0e2f1235"
   },
   "outputs": [
    {
     "data": {
      "text/html": [
       "<div>\n",
       "<style scoped>\n",
       "    .dataframe tbody tr th:only-of-type {\n",
       "        vertical-align: middle;\n",
       "    }\n",
       "\n",
       "    .dataframe tbody tr th {\n",
       "        vertical-align: top;\n",
       "    }\n",
       "\n",
       "    .dataframe thead th {\n",
       "        text-align: right;\n",
       "    }\n",
       "</style>\n",
       "<table border=\"1\" class=\"dataframe\">\n",
       "  <thead>\n",
       "    <tr style=\"text-align: right;\">\n",
       "      <th></th>\n",
       "      <th>Id</th>\n",
       "      <th>MSSubClass</th>\n",
       "      <th>MSZoning</th>\n",
       "      <th>LotFrontage</th>\n",
       "      <th>LotArea</th>\n",
       "      <th>Street</th>\n",
       "      <th>Alley</th>\n",
       "      <th>LotShape</th>\n",
       "      <th>LandContour</th>\n",
       "      <th>Utilities</th>\n",
       "      <th>...</th>\n",
       "      <th>ScreenPorch</th>\n",
       "      <th>PoolArea</th>\n",
       "      <th>PoolQC</th>\n",
       "      <th>Fence</th>\n",
       "      <th>MiscFeature</th>\n",
       "      <th>MiscVal</th>\n",
       "      <th>MoSold</th>\n",
       "      <th>YrSold</th>\n",
       "      <th>SaleType</th>\n",
       "      <th>SaleCondition</th>\n",
       "    </tr>\n",
       "  </thead>\n",
       "  <tbody>\n",
       "    <tr>\n",
       "      <th>0</th>\n",
       "      <td>1461</td>\n",
       "      <td>20</td>\n",
       "      <td>RH</td>\n",
       "      <td>80.000</td>\n",
       "      <td>11622</td>\n",
       "      <td>Pave</td>\n",
       "      <td>NaN</td>\n",
       "      <td>Reg</td>\n",
       "      <td>Lvl</td>\n",
       "      <td>AllPub</td>\n",
       "      <td>...</td>\n",
       "      <td>120</td>\n",
       "      <td>0</td>\n",
       "      <td>NaN</td>\n",
       "      <td>MnPrv</td>\n",
       "      <td>NaN</td>\n",
       "      <td>0</td>\n",
       "      <td>6</td>\n",
       "      <td>2010</td>\n",
       "      <td>WD</td>\n",
       "      <td>Normal</td>\n",
       "    </tr>\n",
       "    <tr>\n",
       "      <th>1</th>\n",
       "      <td>1462</td>\n",
       "      <td>20</td>\n",
       "      <td>RL</td>\n",
       "      <td>81.000</td>\n",
       "      <td>14267</td>\n",
       "      <td>Pave</td>\n",
       "      <td>NaN</td>\n",
       "      <td>IR1</td>\n",
       "      <td>Lvl</td>\n",
       "      <td>AllPub</td>\n",
       "      <td>...</td>\n",
       "      <td>0</td>\n",
       "      <td>0</td>\n",
       "      <td>NaN</td>\n",
       "      <td>NaN</td>\n",
       "      <td>Gar2</td>\n",
       "      <td>12500</td>\n",
       "      <td>6</td>\n",
       "      <td>2010</td>\n",
       "      <td>WD</td>\n",
       "      <td>Normal</td>\n",
       "    </tr>\n",
       "    <tr>\n",
       "      <th>2</th>\n",
       "      <td>1463</td>\n",
       "      <td>60</td>\n",
       "      <td>RL</td>\n",
       "      <td>74.000</td>\n",
       "      <td>13830</td>\n",
       "      <td>Pave</td>\n",
       "      <td>NaN</td>\n",
       "      <td>IR1</td>\n",
       "      <td>Lvl</td>\n",
       "      <td>AllPub</td>\n",
       "      <td>...</td>\n",
       "      <td>0</td>\n",
       "      <td>0</td>\n",
       "      <td>NaN</td>\n",
       "      <td>MnPrv</td>\n",
       "      <td>NaN</td>\n",
       "      <td>0</td>\n",
       "      <td>3</td>\n",
       "      <td>2010</td>\n",
       "      <td>WD</td>\n",
       "      <td>Normal</td>\n",
       "    </tr>\n",
       "    <tr>\n",
       "      <th>3</th>\n",
       "      <td>1464</td>\n",
       "      <td>60</td>\n",
       "      <td>RL</td>\n",
       "      <td>78.000</td>\n",
       "      <td>9978</td>\n",
       "      <td>Pave</td>\n",
       "      <td>NaN</td>\n",
       "      <td>IR1</td>\n",
       "      <td>Lvl</td>\n",
       "      <td>AllPub</td>\n",
       "      <td>...</td>\n",
       "      <td>0</td>\n",
       "      <td>0</td>\n",
       "      <td>NaN</td>\n",
       "      <td>NaN</td>\n",
       "      <td>NaN</td>\n",
       "      <td>0</td>\n",
       "      <td>6</td>\n",
       "      <td>2010</td>\n",
       "      <td>WD</td>\n",
       "      <td>Normal</td>\n",
       "    </tr>\n",
       "    <tr>\n",
       "      <th>4</th>\n",
       "      <td>1465</td>\n",
       "      <td>120</td>\n",
       "      <td>RL</td>\n",
       "      <td>43.000</td>\n",
       "      <td>5005</td>\n",
       "      <td>Pave</td>\n",
       "      <td>NaN</td>\n",
       "      <td>IR1</td>\n",
       "      <td>HLS</td>\n",
       "      <td>AllPub</td>\n",
       "      <td>...</td>\n",
       "      <td>144</td>\n",
       "      <td>0</td>\n",
       "      <td>NaN</td>\n",
       "      <td>NaN</td>\n",
       "      <td>NaN</td>\n",
       "      <td>0</td>\n",
       "      <td>1</td>\n",
       "      <td>2010</td>\n",
       "      <td>WD</td>\n",
       "      <td>Normal</td>\n",
       "    </tr>\n",
       "  </tbody>\n",
       "</table>\n",
       "<p>5 rows × 80 columns</p>\n",
       "</div>"
      ],
      "text/plain": [
       "     Id  MSSubClass MSZoning  LotFrontage  LotArea Street Alley LotShape  \\\n",
       "0  1461          20       RH       80.000    11622   Pave   NaN      Reg   \n",
       "1  1462          20       RL       81.000    14267   Pave   NaN      IR1   \n",
       "2  1463          60       RL       74.000    13830   Pave   NaN      IR1   \n",
       "3  1464          60       RL       78.000     9978   Pave   NaN      IR1   \n",
       "4  1465         120       RL       43.000     5005   Pave   NaN      IR1   \n",
       "\n",
       "  LandContour Utilities  ... ScreenPorch PoolArea PoolQC  Fence MiscFeature  \\\n",
       "0         Lvl    AllPub  ...         120        0    NaN  MnPrv         NaN   \n",
       "1         Lvl    AllPub  ...           0        0    NaN    NaN        Gar2   \n",
       "2         Lvl    AllPub  ...           0        0    NaN  MnPrv         NaN   \n",
       "3         Lvl    AllPub  ...           0        0    NaN    NaN         NaN   \n",
       "4         HLS    AllPub  ...         144        0    NaN    NaN         NaN   \n",
       "\n",
       "  MiscVal MoSold  YrSold  SaleType  SaleCondition  \n",
       "0       0      6    2010        WD         Normal  \n",
       "1   12500      6    2010        WD         Normal  \n",
       "2       0      3    2010        WD         Normal  \n",
       "3       0      6    2010        WD         Normal  \n",
       "4       0      1    2010        WD         Normal  \n",
       "\n",
       "[5 rows x 80 columns]"
      ]
     },
     "execution_count": 5,
     "metadata": {},
     "output_type": "execute_result"
    }
   ],
   "source": [
    "##display the first five rows of the test dataset.\n",
    "test.head(5)\n"
   ]
  },
  {
   "cell_type": "code",
   "execution_count": 6,
   "metadata": {
    "_cell_guid": "b24451a1-fb8c-4094-ad0b-0940469d07fc",
    "_execution_state": "idle",
    "_uuid": "687813c270cbfdedccc7a9e4ec9fbb78a99d54ed"
   },
   "outputs": [
    {
     "name": "stdout",
     "output_type": "stream",
     "text": [
      "The train data size before dropping Id feature is : (1460, 81) \n",
      "The test data size before dropping Id feature is : (1459, 80) \n",
      "\n",
      "The train data size after dropping Id feature is : (1460, 80) \n",
      "The test data size after dropping Id feature is : (1459, 79) \n"
     ]
    }
   ],
   "source": [
    "#check the numbers of samples and features\n",
    "print(\"The train data size before dropping Id feature is : {} \".format(train.shape))\n",
    "print(\"The test data size before dropping Id feature is : {} \".format(test.shape))\n",
    "\n",
    "#Save the 'Id' column\n",
    "train_ID = train['Id']\n",
    "test_ID = test['Id']\n",
    "\n",
    "#Now drop the  'Id' colum since it's unnecessary for  the prediction process.\n",
    "train.drop(\"Id\", axis = 1, inplace = True)\n",
    "test.drop(\"Id\", axis = 1, inplace = True)\n",
    "\n",
    "#check again the data size after dropping the 'Id' variable\n",
    "print(\"\\nThe train data size after dropping Id feature is : {} \".format(train.shape)) \n",
    "print(\"The test data size after dropping Id feature is : {} \".format(test.shape))"
   ]
  },
  {
   "cell_type": "markdown",
   "metadata": {
    "_cell_guid": "7d5829c4-b2f1-4ef3-8b02-11f02eb7aabf",
    "_execution_state": "idle",
    "_uuid": "228cb602f1c7a47d3c5250514cab57f7e7bc75e5"
   },
   "source": [
    "#Data Processing"
   ]
  },
  {
   "cell_type": "markdown",
   "metadata": {
    "_cell_guid": "993f8fc0-1f5a-4432-80bc-6024b7bbc855",
    "_execution_state": "idle",
    "_uuid": "21bab04b0e0a451c912695d9238bf8304fc009d4"
   },
   "source": [
    "##Outliers"
   ]
  },
  {
   "cell_type": "markdown",
   "metadata": {
    "_cell_guid": "2b19b08e-b8bf-44b0-b83d-ee3efd0b833e",
    "_execution_state": "idle",
    "_uuid": "70fc7612c38957f7418d03a409ff8bae21d522a9"
   },
   "source": [
    "[Documentation][1] for the Ames Housing Data indicates that there are outliers present in the training data\n",
    "[1]: http://ww2.amstat.org/publications/jse/v19n3/Decock/DataDocumentation.txt"
   ]
  },
  {
   "cell_type": "markdown",
   "metadata": {
    "_cell_guid": "465043f2-d687-4b1f-a6b4-1036859dfeb0",
    "_execution_state": "idle",
    "_uuid": "32b12bca723c5e867f7d7a7e179ff934a5fcdf30"
   },
   "source": [
    "Let's explore these outliers\n"
   ]
  },
  {
   "cell_type": "code",
   "execution_count": 7,
   "metadata": {
    "_cell_guid": "637bd0fd-7508-41d1-b240-ea0e8598dddf",
    "_execution_state": "idle",
    "_uuid": "8903aa1a4a700aa2160edb3baf806f3800ae7d9a"
   },
   "outputs": [
    {
     "data": {
      "image/png": "[encoded data removed]",
      "text/plain": [
       "<Figure size 432x288 with 1 Axes>"
      ]
     },
     "metadata": {},
     "output_type": "display_data"
    }
   ],
   "source": [
    "\n",
    "fig, ax = plt.subplots()\n",
    "ax.scatter(x = train['GrLivArea'], y = train['SalePrice'])\n",
    "plt.ylabel('SalePrice', fontsize=13)\n",
    "plt.xlabel('GrLivArea', fontsize=13)\n",
    "plt.show()\n"
   ]
  },
  {
   "cell_type": "markdown",
   "metadata": {
    "_cell_guid": "30304b82-5846-4142-bc31-b629158fb040",
    "_execution_state": "idle",
    "_uuid": "edf186dc5169e450392ee8f809cc3de5d10d7dbd"
   },
   "source": [
    "We can see at the bottom right two with extremely large GrLivArea that are of a low price. These values are huge oultliers.\n",
    "Therefore, we can safely delete them."
   ]
  },
  {
   "cell_type": "code",
   "execution_count": 8,
   "metadata": {
    "_cell_guid": "6c5780b2-d4a8-42d9-b902-c6a23eef7d99",
    "_execution_state": "idle",
    "_uuid": "583bb417102d7bebb4aaf14bcb1aebcae86443bb"
   },
   "outputs": [
    {
     "data": {
      "image/png": "[encoded data removed]",
      "text/plain": [
       "<Figure size 432x288 with 1 Axes>"
      ]
     },
     "metadata": {},
     "output_type": "display_data"
    }
   ],
   "source": [
    "#Deleting outliers\n",
    "train = train.drop(train[(train['GrLivArea']>4000) & (train['SalePrice']<300000)].index)\n",
    "\n",
    "#Check the graphic again\n",
    "fig, ax = plt.subplots()\n",
    "ax.scatter(train['GrLivArea'], train['SalePrice'])\n",
    "plt.ylabel('SalePrice', fontsize=13)\n",
    "plt.xlabel('GrLivArea', fontsize=13)\n",
    "plt.show()"
   ]
  },
  {
   "cell_type": "markdown",
   "metadata": {
    "_cell_guid": "e24be1ff-e186-4d0f-9ba1-64195c0eec4d",
    "_execution_state": "idle",
    "_uuid": "0f186c5806f14de1e9ea46ece78a4bed2a6830a7"
   },
   "source": [
    "###Note : \n",
    " Outliers removal is note always safe.  We decided to delete these two as they are very huge and  really  bad ( extremely large areas for very low  prices). \n",
    "\n",
    "There are probably others outliers in the training data.   However, removing all them  may affect badly our models if ever there were also  outliers  in the test data. That's why , instead of removing them all, we will just manage to make some of our  models robust on them. You can refer to  the modelling part of this notebook for that. "
   ]
  },
  {
   "cell_type": "markdown",
   "metadata": {
    "_cell_guid": "f4dcb348-634e-4010-b0a1-27976a1d8353",
    "_execution_state": "idle",
    "_uuid": "886ad7c816f4c1fd9afda53b10990baf987e86d8"
   },
   "source": [
    "##Target Variable"
   ]
  },
  {
   "cell_type": "markdown",
   "metadata": {
    "_cell_guid": "658f5b56-5830-486c-81a0-8514fb95e274",
    "_execution_state": "idle",
    "_uuid": "4b96a6a35983d1c765c11c929bcd32effd105b43"
   },
   "source": [
    "**SalePrice** is the variable we need to predict. So let's do some analysis on this variable first."
   ]
  },
  {
   "cell_type": "code",
   "execution_count": 9,
   "metadata": {
    "_cell_guid": "a17ad845-6fca-4d47-8e44-7c4c44f0427d",
    "_execution_state": "idle",
    "_uuid": "be3b0157031685ed3dbc31a657ba712312691830"
   },
   "outputs": [
    {
     "name": "stdout",
     "output_type": "stream",
     "text": [
      "\n",
      " mu = 180932.92 and sigma = 79467.79\n",
      "\n"
     ]
    },
    {
     "data": {
      "image/png": "[encoded data removed]",
      "text/plain": [
       "<Figure size 432x288 with 1 Axes>"
      ]
     },
     "metadata": {},
     "output_type": "display_data"
    },
    {
     "data": {
      "image/png": "[encoded data removed]",
      "text/plain": [
       "<Figure size 432x288 with 1 Axes>"
      ]
     },
     "metadata": {},
     "output_type": "display_data"
    }
   ],
   "source": [
    "sns.distplot(train['SalePrice'] , fit=norm);\n",
    "\n",
    "# Get the fitted parameters used by the function\n",
    "(mu, sigma) = norm.fit(train['SalePrice'])\n",
    "print( '\\n mu = {:.2f} and sigma = {:.2f}\\n'.format(mu, sigma))\n",
    "\n",
    "#Now plot the distribution\n",
    "plt.legend(['Normal dist. ($\\mu=$ {:.2f} and $\\sigma=$ {:.2f} )'.format(mu, sigma)],\n",
    "            loc='best')\n",
    "plt.ylabel('Frequency')\n",
    "plt.title('SalePrice distribution')\n",
    "\n",
    "#Get also the QQ-plot\n",
    "fig = plt.figure()\n",
    "res = stats.probplot(train['SalePrice'], plot=plt)\n",
    "plt.show()"
   ]
  },
  {
   "cell_type": "markdown",
   "metadata": {
    "_cell_guid": "313a535c-86c4-4db5-96de-6f65bc4adc2f",
    "_execution_state": "idle",
    "_uuid": "1da2d9831ae6c94b3f6304185f02896a9ee40aa5"
   },
   "source": [
    "The target variable is right skewed.  As (linear) models love normally distributed data , we need to transform this variable and make it more normally distributed."
   ]
  },
  {
   "cell_type": "markdown",
   "metadata": {
    "_cell_guid": "8df72eef-77de-4a71-aa6a-4b91784a7232",
    "_execution_state": "idle",
    "_uuid": "421775277fdab4e5a05f74aa4ea92e712a743928"
   },
   "source": [
    " **Log-transformation of the target variable**"
   ]
  },
  {
   "cell_type": "code",
   "execution_count": 10,
   "metadata": {
    "_cell_guid": "21b3a0ad-bd68-49aa-a3d7-40a30b3c59dc",
    "_execution_state": "idle",
    "_uuid": "719cf6a9dca56cc529e97af21816d291fa8bd8c0"
   },
   "outputs": [
    {
     "name": "stdout",
     "output_type": "stream",
     "text": [
      "\n",
      " mu = 12.02 and sigma = 0.40\n",
      "\n"
     ]
    },
    {
     "data": {
      "image/png": "[encoded data removed]",
      "text/plain": [
       "<Figure size 432x288 with 1 Axes>"
      ]
     },
     "metadata": {},
     "output_type": "display_data"
    },
    {
     "data": {
      "image/png": "[encoded data removed]",
      "text/plain": [
       "<Figure size 432x288 with 1 Axes>"
      ]
     },
     "metadata": {},
     "output_type": "display_data"
    }
   ],
   "source": [
    "#We use the numpy fuction log1p which  applies log(1+x) to all elements of the column\n",
    "train[\"SalePrice\"] = np.log1p(train[\"SalePrice\"])\n",
    "\n",
    "#Check the new distribution \n",
    "sns.distplot(train['SalePrice'] , fit=norm);\n",
    "\n",
    "# Get the fitted parameters used by the function\n",
    "(mu, sigma) = norm.fit(train['SalePrice'])\n",
    "print( '\\n mu = {:.2f} and sigma = {:.2f}\\n'.format(mu, sigma))\n",
    "\n",
    "#Now plot the distribution\n",
    "plt.legend(['Normal dist. ($\\mu=$ {:.2f} and $\\sigma=$ {:.2f} )'.format(mu, sigma)],\n",
    "            loc='best')\n",
    "plt.ylabel('Frequency')\n",
    "plt.title('SalePrice distribution')\n",
    "\n",
    "#Get also the QQ-plot\n",
    "fig = plt.figure()\n",
    "res = stats.probplot(train['SalePrice'], plot=plt)\n",
    "plt.show()\n"
   ]
  },
  {
   "cell_type": "markdown",
   "metadata": {
    "_cell_guid": "51620309-727a-4445-a96a-d9851880d31f",
    "_execution_state": "idle",
    "_uuid": "991e699566f4292490fda326703baa33ce09173f"
   },
   "source": [
    "The skew seems now corrected and the data appears more normally distributed. "
   ]
  },
  {
   "cell_type": "markdown",
   "metadata": {
    "_cell_guid": "802df76d-0e0b-4868-ba16-91335568d2d7",
    "_execution_state": "idle",
    "_uuid": "827a86d65c6d176f4af55224b91b44a47966652d"
   },
   "source": [
    "##Features engineering"
   ]
  },
  {
   "cell_type": "markdown",
   "metadata": {
    "_cell_guid": "a5ad11e4-0388-417c-bf77-cc7752f4c5a0",
    "_execution_state": "idle",
    "_uuid": "5fc214fb6df16c026dec0dfcb99af1c1b7744b56"
   },
   "source": [
    "let's first  concatenate the train and test data in the same dataframe"
   ]
  },
  {
   "cell_type": "code",
   "execution_count": 11,
   "metadata": {
    "_cell_guid": "1bd3e9b9-2f42-4251-aadd-5ced84eb1a27",
    "_execution_state": "idle",
    "_uuid": "efc576211e4eed962f04cd94d901c667e6912528"
   },
   "outputs": [
    {
     "name": "stdout",
     "output_type": "stream",
     "text": [
      "all_data size is : (2917, 79)\n"
     ]
    }
   ],
   "source": [
    "ntrain = train.shape[0]\n",
    "ntest = test.shape[0]\n",
    "y_train = train.SalePrice.values\n",
    "all_data = pd.concat((train, test)).reset_index(drop=True)\n",
    "all_data.drop(['SalePrice'], axis=1, inplace=True)\n",
    "print(\"all_data size is : {}\".format(all_data.shape))"
   ]
  },
  {
   "cell_type": "markdown",
   "metadata": {
    "_cell_guid": "9ce95008-a3b9-43fa-bc4e-649ca0f43768",
    "_execution_state": "idle",
    "_uuid": "abe25f3032a0bed179d58d5911cb42d97b35841b"
   },
   "source": [
    "###Missing Data"
   ]
  },
  {
   "cell_type": "code",
   "execution_count": 12,
   "metadata": {
    "_cell_guid": "501b465f-8c80-4b93-81d0-a5d41e08d235",
    "_execution_state": "idle",
    "_uuid": "f97d25548ec8f6c02e2d1ee5a6df6c3d107fdf53"
   },
   "outputs": [
    {
     "data": {
      "text/html": [
       "<div>\n",
       "<style scoped>\n",
       "    .dataframe tbody tr th:only-of-type {\n",
       "        vertical-align: middle;\n",
       "    }\n",
       "\n",
       "    .dataframe tbody tr th {\n",
       "        vertical-align: top;\n",
       "    }\n",
       "\n",
       "    .dataframe thead th {\n",
       "        text-align: right;\n",
       "    }\n",
       "</style>\n",
       "<table border=\"1\" class=\"dataframe\">\n",
       "  <thead>\n",
       "    <tr style=\"text-align: right;\">\n",
       "      <th></th>\n",
       "      <th>Missing Ratio</th>\n",
       "    </tr>\n",
       "  </thead>\n",
       "  <tbody>\n",
       "    <tr>\n",
       "      <th>PoolQC</th>\n",
       "      <td>99.691</td>\n",
       "    </tr>\n",
       "    <tr>\n",
       "      <th>MiscFeature</th>\n",
       "      <td>96.400</td>\n",
       "    </tr>\n",
       "    <tr>\n",
       "      <th>Alley</th>\n",
       "      <td>93.212</td>\n",
       "    </tr>\n",
       "    <tr>\n",
       "      <th>Fence</th>\n",
       "      <td>80.425</td>\n",
       "    </tr>\n",
       "    <tr>\n",
       "      <th>FireplaceQu</th>\n",
       "      <td>48.680</td>\n",
       "    </tr>\n",
       "    <tr>\n",
       "      <th>LotFrontage</th>\n",
       "      <td>16.661</td>\n",
       "    </tr>\n",
       "    <tr>\n",
       "      <th>GarageQual</th>\n",
       "      <td>5.451</td>\n",
       "    </tr>\n",
       "    <tr>\n",
       "      <th>GarageCond</th>\n",
       "      <td>5.451</td>\n",
       "    </tr>\n",
       "    <tr>\n",
       "      <th>GarageFinish</th>\n",
       "      <td>5.451</td>\n",
       "    </tr>\n",
       "    <tr>\n",
       "      <th>GarageYrBlt</th>\n",
       "      <td>5.451</td>\n",
       "    </tr>\n",
       "    <tr>\n",
       "      <th>GarageType</th>\n",
       "      <td>5.382</td>\n",
       "    </tr>\n",
       "    <tr>\n",
       "      <th>BsmtExposure</th>\n",
       "      <td>2.811</td>\n",
       "    </tr>\n",
       "    <tr>\n",
       "      <th>BsmtCond</th>\n",
       "      <td>2.811</td>\n",
       "    </tr>\n",
       "    <tr>\n",
       "      <th>BsmtQual</th>\n",
       "      <td>2.777</td>\n",
       "    </tr>\n",
       "    <tr>\n",
       "      <th>BsmtFinType2</th>\n",
       "      <td>2.743</td>\n",
       "    </tr>\n",
       "    <tr>\n",
       "      <th>BsmtFinType1</th>\n",
       "      <td>2.708</td>\n",
       "    </tr>\n",
       "    <tr>\n",
       "      <th>MasVnrType</th>\n",
       "      <td>0.823</td>\n",
       "    </tr>\n",
       "    <tr>\n",
       "      <th>MasVnrArea</th>\n",
       "      <td>0.788</td>\n",
       "    </tr>\n",
       "    <tr>\n",
       "      <th>MSZoning</th>\n",
       "      <td>0.137</td>\n",
       "    </tr>\n",
       "    <tr>\n",
       "      <th>BsmtFullBath</th>\n",
       "      <td>0.069</td>\n",
       "    </tr>\n",
       "  </tbody>\n",
       "</table>\n",
       "</div>"
      ],
      "text/plain": [
       "              Missing Ratio\n",
       "PoolQC               99.691\n",
       "MiscFeature          96.400\n",
       "Alley                93.212\n",
       "Fence                80.425\n",
       "FireplaceQu          48.680\n",
       "LotFrontage          16.661\n",
       "GarageQual            5.451\n",
       "GarageCond            5.451\n",
       "GarageFinish          5.451\n",
       "GarageYrBlt           5.451\n",
       "GarageType            5.382\n",
       "BsmtExposure          2.811\n",
       "BsmtCond              2.811\n",
       "BsmtQual              2.777\n",
       "BsmtFinType2          2.743\n",
       "BsmtFinType1          2.708\n",
       "MasVnrType            0.823\n",
       "MasVnrArea            0.788\n",
       "MSZoning              0.137\n",
       "BsmtFullBath          0.069"
      ]
     },
     "execution_count": 12,
     "metadata": {},
     "output_type": "execute_result"
    }
   ],
   "source": [
    "all_data_na = (all_data.isnull().sum() / len(all_data)) * 100\n",
    "all_data_na = all_data_na.drop(all_data_na[all_data_na == 0].index).sort_values(ascending=False)[:30]\n",
    "missing_data = pd.DataFrame({'Missing Ratio' :all_data_na})\n",
    "missing_data.head(20)"
   ]
  },
  {
   "cell_type": "code",
   "execution_count": 13,
   "metadata": {
    "_cell_guid": "1c80610d-8f19-43c8-bd54-7d786b0dca49",
    "_execution_state": "idle",
    "_uuid": "2eb6e1361884db6a4f65afc3b158fcbe85c2392e"
   },
   "outputs": [
    {
     "data": {
      "text/plain": [
       "Text(0.5, 1.0, 'Percent missing data by feature')"
      ]
     },
     "execution_count": 13,
     "metadata": {},
     "output_type": "execute_result"
    },
    {
     "data": {
      "image/png": "[encoded data removed]",
      "text/plain": [
       "<Figure size 1080x864 with 1 Axes>"
      ]
     },
     "metadata": {},
     "output_type": "display_data"
    }
   ],
   "source": [
    "f, ax = plt.subplots(figsize=(15, 12))\n",
    "plt.xticks(rotation='90')\n",
    "sns.barplot(x=all_data_na.index, y=all_data_na)\n",
    "plt.xlabel('Features', fontsize=15)\n",
    "plt.ylabel('Percent of missing values', fontsize=15)\n",
    "plt.title('Percent missing data by feature', fontsize=15)"
   ]
  },
  {
   "cell_type": "markdown",
   "metadata": {
    "_cell_guid": "5d88502a-2484-45d7-a750-0d32075133dd",
    "_execution_state": "idle",
    "_uuid": "dbf28eddefa2c0825781a31cde823ac5ece5a1ee"
   },
   "source": [
    "**Data Correlation**\n"
   ]
  },
  {
   "cell_type": "code",
   "execution_count": 14,
   "metadata": {
    "_cell_guid": "3fc115c7-33bb-456d-b3e5-4dd985bfbc9f",
    "_execution_state": "idle",
    "_uuid": "0f6b9912c752212f3f4bdca0b60f5fd01c12d2a0"
   },
   "outputs": [
    {
     "data": {
      "text/plain": [
       "<matplotlib.axes._subplots.AxesSubplot at 0x1a25de8c88>"
      ]
     },
     "execution_count": 14,
     "metadata": {},
     "output_type": "execute_result"
    },
    {
     "data": {
      "image/png": "[encoded data removed]",
      "text/plain": [
       "<Figure size 864x648 with 2 Axes>"
      ]
     },
     "metadata": {},
     "output_type": "display_data"
    }
   ],
   "source": [
    "#Correlation map to see how features are correlated with SalePrice\n",
    "corrmat = train.corr()\n",
    "plt.subplots(figsize=(12,9))\n",
    "sns.heatmap(corrmat, vmax=0.9, square=True)"
   ]
  },
  {
   "cell_type": "markdown",
   "metadata": {
    "_cell_guid": "cd681698-02d2-473e-bfc8-2d98a1353a18",
    "_execution_state": "idle",
    "_uuid": "41a6b40f8f03212a624f54167cad456a9f193f93"
   },
   "source": [
    "###Imputing missing values "
   ]
  },
  {
   "cell_type": "markdown",
   "metadata": {
    "_cell_guid": "e717ffdc-b536-4f6c-8008-e520043a5d3d",
    "_execution_state": "idle",
    "_uuid": "24d64c66f2a2329437743756194d21893ee6dd1f"
   },
   "source": [
    "We impute them  by proceeding sequentially  through features with missing values "
   ]
  },
  {
   "cell_type": "markdown",
   "metadata": {
    "_cell_guid": "6f7d94ef-5ffb-4e1b-b1a2-a917cce3f357",
    "_execution_state": "idle",
    "_uuid": "d6d054aff0098e4e602ef618e0a4d3706d71dd66"
   },
   "source": [
    "- **PoolQC** : data description says NA means \"No  Pool\". That make sense, given the huge ratio of missing value (+99%) and majority of houses have no Pool at all in general. "
   ]
  },
  {
   "cell_type": "code",
   "execution_count": 15,
   "metadata": {
    "_cell_guid": "ca8a04eb-f42b-4c26-a690-bb98c95c6118",
    "_execution_state": "idle",
    "_uuid": "1d94b062f7683d711d479e48530009040185fd4c"
   },
   "outputs": [],
   "source": [
    "all_data[\"PoolQC\"] = all_data[\"PoolQC\"].fillna(\"None\")"
   ]
  },
  {
   "cell_type": "markdown",
   "metadata": {
    "_cell_guid": "ea3aecb9-b2e8-4cdc-853d-999f8e2f789c",
    "_execution_state": "idle",
    "_uuid": "0516efe507d7176591f6af3d503312db5038949a"
   },
   "source": [
    "- **MiscFeature** : data description says NA means \"no misc feature\"\n"
   ]
  },
  {
   "cell_type": "code",
   "execution_count": 16,
   "metadata": {
    "_cell_guid": "689863b8-4e4e-45d7-9972-8894e8defbe2",
    "_execution_state": "idle",
    "_uuid": "c311993a26d66d66ce82584a3e00d7ed56a3ea5a"
   },
   "outputs": [],
   "source": [
    "all_data[\"MiscFeature\"] = all_data[\"MiscFeature\"].fillna(\"None\")"
   ]
  },
  {
   "cell_type": "markdown",
   "metadata": {
    "_cell_guid": "d467b9e0-0793-41e5-aaa1-d1686946ba9f",
    "_execution_state": "idle",
    "_uuid": "44cfbd9eecce5e4f2bc91a72ed095270e6010f57"
   },
   "source": [
    "- **Alley** : data description says NA means \"no alley access\""
   ]
  },
  {
   "cell_type": "code",
   "execution_count": 17,
   "metadata": {
    "_cell_guid": "0f822e30-09f3-45f8-b09e-0ffed4ff985c",
    "_execution_state": "idle",
    "_uuid": "35709caf5cb2b0220cd9043f76462a116de15059"
   },
   "outputs": [],
   "source": [
    "all_data[\"Alley\"] = all_data[\"Alley\"].fillna(\"None\")"
   ]
  },
  {
   "cell_type": "markdown",
   "metadata": {
    "_cell_guid": "0bab3349-eddb-4977-acd5-8dad4553ff7f",
    "_execution_state": "idle",
    "_uuid": "3265fc176140dbf1b641e18f2d57b91554c85771"
   },
   "source": [
    "- **Fence** : data description says NA means \"no fence\""
   ]
  },
  {
   "cell_type": "code",
   "execution_count": 18,
   "metadata": {
    "_cell_guid": "c0d6e4f4-df14-467f-bab2-86bfd0493a35",
    "_execution_state": "idle",
    "_uuid": "6d9d6998298a7fea5677f0916bcc9f33dc99e231"
   },
   "outputs": [],
   "source": [
    "all_data[\"Fence\"] = all_data[\"Fence\"].fillna(\"None\")"
   ]
  },
  {
   "cell_type": "markdown",
   "metadata": {
    "_cell_guid": "49747765-81f1-4b23-ad63-534c7fe48b7a",
    "_execution_state": "idle",
    "_uuid": "4869889d4b2b118bc6dcef239cbc27546a7b445e"
   },
   "source": [
    "- **FireplaceQu** : data description says NA means \"no fireplace\""
   ]
  },
  {
   "cell_type": "code",
   "execution_count": 19,
   "metadata": {
    "_cell_guid": "22b88c5b-6419-424f-9805-2c2b11e85dca",
    "_execution_state": "idle",
    "_uuid": "fb8cdb59e4ecba1f7ec78eb3b34c7209c34b1c86"
   },
   "outputs": [],
   "source": [
    "all_data[\"FireplaceQu\"] = all_data[\"FireplaceQu\"].fillna(\"None\")"
   ]
  },
  {
   "cell_type": "markdown",
   "metadata": {
    "_cell_guid": "357994d1-974a-49ee-98e4-a19bc524fcb6",
    "_execution_state": "idle",
    "_uuid": "2b00af603b7dbc9114e62c421b2b886154d31959"
   },
   "source": [
    "- **LotFrontage** : Since the area of each street connected to the house property most likely have a similar area to other houses in its neighborhood , we can **fill in missing values by the median LotFrontage of the neighborhood**."
   ]
  },
  {
   "cell_type": "code",
   "execution_count": 20,
   "metadata": {
    "_cell_guid": "b8cd4872-67c6-4c82-a1a3-807d08efb658",
    "_execution_state": "idle",
    "_uuid": "56c268a7217e85301d2847ceeca410d62e781b89"
   },
   "outputs": [],
   "source": [
    "#Group by neighborhood and fill in missing value by the median LotFrontage of all the neighborhood\n",
    "all_data[\"LotFrontage\"] = all_data.groupby(\"Neighborhood\")[\"LotFrontage\"].transform(\n",
    "    lambda x: x.fillna(x.median()))"
   ]
  },
  {
   "cell_type": "markdown",
   "metadata": {
    "_cell_guid": "c0432c37-f664-4da1-a4d8-87a7cb450bd1",
    "_execution_state": "idle",
    "_uuid": "53712c1d6c7cf2945c6ba8b537171ea6b84f085e"
   },
   "source": [
    "- **GarageType, GarageFinish, GarageQual and GarageCond** : Replacing missing data with None"
   ]
  },
  {
   "cell_type": "code",
   "execution_count": 21,
   "metadata": {
    "_cell_guid": "f264979e-f5e2-4aae-b313-7468570c0294",
    "_execution_state": "idle",
    "_uuid": "d556da5418394ed50d3c14bd02668714cee0fb4a"
   },
   "outputs": [],
   "source": [
    "for col in ('GarageType', 'GarageFinish', 'GarageQual', 'GarageCond'):\n",
    "    all_data[col] = all_data[col].fillna('None')"
   ]
  },
  {
   "cell_type": "markdown",
   "metadata": {
    "_cell_guid": "92173e82-fd12-4fa0-b7dd-f66fb7b0be3b",
    "_execution_state": "idle",
    "_uuid": "b38ea3ec1c4b8fa4b31e8f86f378798319c05a71"
   },
   "source": [
    "- **GarageYrBlt, GarageArea and GarageCars** : Replacing missing data with 0 (Since No garage = no cars in such garage.)\n"
   ]
  },
  {
   "cell_type": "code",
   "execution_count": 22,
   "metadata": {
    "_cell_guid": "ada7acfa-8bc3-4d52-9f42-28a78cefc950",
    "_execution_state": "idle",
    "_uuid": "2726cce29df2a2621c54c4c8a06eb570a7191552"
   },
   "outputs": [],
   "source": [
    "for col in ('GarageYrBlt', 'GarageArea', 'GarageCars'):\n",
    "    all_data[col] = all_data[col].fillna(0)"
   ]
  },
  {
   "cell_type": "markdown",
   "metadata": {
    "_cell_guid": "b9f955c5-4e03-4835-8df7-1284120453ff",
    "_execution_state": "idle",
    "_uuid": "1729c36d95461d03679eb95e18eaac3d37aeb076"
   },
   "source": [
    "- **BsmtFinSF1, BsmtFinSF2, BsmtUnfSF, TotalBsmtSF, BsmtFullBath and BsmtHalfBath** : missing values are likely zero for having no basement"
   ]
  },
  {
   "cell_type": "code",
   "execution_count": 23,
   "metadata": {
    "_cell_guid": "dd9e7ef7-3cee-437a-9a33-20987e238425",
    "_execution_state": "idle",
    "_uuid": "3008a6bd07ed883ff92a83ebe390940a24010fcb"
   },
   "outputs": [],
   "source": [
    "for col in ('BsmtFinSF1', 'BsmtFinSF2', 'BsmtUnfSF','TotalBsmtSF', 'BsmtFullBath', 'BsmtHalfBath'):\n",
    "    all_data[col] = all_data[col].fillna(0)"
   ]
  },
  {
   "cell_type": "markdown",
   "metadata": {
    "_cell_guid": "441b397e-c527-4bd5-8d3c-df6aeba72192",
    "_execution_state": "idle",
    "_uuid": "d4ed0fcea9f8bb309118ba2fb703431e386c6cbd"
   },
   "source": [
    "- **BsmtQual, BsmtCond, BsmtExposure, BsmtFinType1 and BsmtFinType2** : For all these categorical basement-related features, NaN means that there is no  basement.\n"
   ]
  },
  {
   "cell_type": "code",
   "execution_count": 24,
   "metadata": {
    "_cell_guid": "6d7aa4f6-41b9-4f27-acb0-8af6aca2c8ff",
    "_execution_state": "idle",
    "_uuid": "ee281d3c691a50795e93bb797603c697d320b286"
   },
   "outputs": [],
   "source": [
    "for col in ('BsmtQual', 'BsmtCond', 'BsmtExposure', 'BsmtFinType1', 'BsmtFinType2'):\n",
    "    all_data[col] = all_data[col].fillna('None')"
   ]
  },
  {
   "cell_type": "markdown",
   "metadata": {
    "_cell_guid": "e7f2515f-8438-4075-9d22-0b37c1a2ef01",
    "_execution_state": "idle",
    "_uuid": "556165bc959cd6ff2354cb774341ac947d052f6a"
   },
   "source": [
    "- **MasVnrArea and MasVnrType** : NA most likely means no masonry veneer for these houses. We can fill 0 for the area and None for the type. \n"
   ]
  },
  {
   "cell_type": "code",
   "execution_count": 25,
   "metadata": {
    "_cell_guid": "63a3a030-482f-4292-a887-16880f7a2882",
    "_execution_state": "idle",
    "_uuid": "800ff604bb70023baf1d403b53b674b765d9047c"
   },
   "outputs": [],
   "source": [
    "all_data[\"MasVnrType\"] = all_data[\"MasVnrType\"].fillna(\"None\")\n",
    "all_data[\"MasVnrArea\"] = all_data[\"MasVnrArea\"].fillna(0)"
   ]
  },
  {
   "cell_type": "markdown",
   "metadata": {
    "_cell_guid": "f2f7f337-de24-44ec-93a6-09428ec9a252",
    "_execution_state": "idle",
    "_uuid": "ded1f7ea0443654bd033eeed1361056f820a925b"
   },
   "source": [
    "- **MSZoning (The general zoning classification)** :  'RL' is by far  the most common value.  So we can fill in missing values with 'RL'\n"
   ]
  },
  {
   "cell_type": "code",
   "execution_count": 26,
   "metadata": {
    "_cell_guid": "0e4f28b5-784c-4369-92f4-bda15fa55172",
    "_execution_state": "idle",
    "_uuid": "ca93ce9b34c853c1bb11d837eaff6c2986234757"
   },
   "outputs": [],
   "source": [
    "all_data['MSZoning'] = all_data['MSZoning'].fillna(all_data['MSZoning'].mode()[0])"
   ]
  },
  {
   "cell_type": "markdown",
   "metadata": {
    "_cell_guid": "99310a4b-9dbf-4273-81b5-94bf0adf338c",
    "_execution_state": "idle",
    "_uuid": "de39073aef3db7d13894fa82285eff803d6e5c1b"
   },
   "source": [
    "- **Utilities** : For this categorical feature all records are \"AllPub\", except for one \"NoSeWa\"  and 2 NA . Since the house with 'NoSewa' is in the training set, **this feature won't help in predictive modelling**. We can then safely  remove it.\n"
   ]
  },
  {
   "cell_type": "code",
   "execution_count": 27,
   "metadata": {
    "_cell_guid": "facec65d-945f-4be1-86c8-1be011cc2bd0",
    "_execution_state": "idle",
    "_uuid": "de8ee2aca9eb3eeed7442cd9d12843cc64746708"
   },
   "outputs": [],
   "source": [
    "all_data = all_data.drop(['Utilities'], axis=1)"
   ]
  },
  {
   "cell_type": "markdown",
   "metadata": {
    "_cell_guid": "c6aabfcd-4a1d-4845-88a1-b2f5cb7d8901",
    "_execution_state": "idle",
    "_uuid": "3450d048089ba8ff98807c6ae3b745b0a34165f9"
   },
   "source": [
    "- **Functional** : data description says NA means typical"
   ]
  },
  {
   "cell_type": "code",
   "execution_count": 28,
   "metadata": {
    "_cell_guid": "c968aa5e-c34f-442e-9388-69e074a2c84e",
    "_execution_state": "idle",
    "_uuid": "e2d331e991fa868320b5d089f61c58b54ce7cb37"
   },
   "outputs": [],
   "source": [
    "all_data[\"Functional\"] = all_data[\"Functional\"].fillna(\"Typ\")"
   ]
  },
  {
   "cell_type": "markdown",
   "metadata": {
    "_cell_guid": "4f2bad4d-8db8-4ac3-8991-ffa2c775a72d",
    "_execution_state": "idle",
    "_uuid": "c122f5b5596bc4ce615c6b620b7e1824a54a47b8"
   },
   "source": [
    "- **Electrical** : It has one NA value. Since this feature has mostly 'SBrkr', we can set that for the missing value.\n"
   ]
  },
  {
   "cell_type": "code",
   "execution_count": 29,
   "metadata": {
    "_cell_guid": "d93eab84-7759-4201-bd7d-d450399478f7",
    "_execution_state": "idle",
    "_uuid": "d31761ee8878ce4143cf21adde149cd622c5a039"
   },
   "outputs": [],
   "source": [
    "all_data['Electrical'] = all_data['Electrical'].fillna(all_data['Electrical'].mode()[0])"
   ]
  },
  {
   "cell_type": "markdown",
   "metadata": {
    "_cell_guid": "3d089b8e-3392-4067-a5a1-4f6d4e3e8fb5",
    "_execution_state": "idle",
    "_uuid": "8e0fd54a802f1eddfec0aa4104412c19e1c266d0"
   },
   "source": [
    "- **KitchenQual**: Only one NA value, and same as Electrical, we set 'TA' (which is the most frequent)  for the missing value in KitchenQual.\n"
   ]
  },
  {
   "cell_type": "code",
   "execution_count": 30,
   "metadata": {
    "_cell_guid": "9f68e47a-5b50-436f-9e31-ff65a1cb1687",
    "_execution_state": "idle",
    "_uuid": "23071ddb69b67b1d742bb15d260421d57aed5583"
   },
   "outputs": [],
   "source": [
    "all_data['KitchenQual'] = all_data['KitchenQual'].fillna(all_data['KitchenQual'].mode()[0])"
   ]
  },
  {
   "cell_type": "markdown",
   "metadata": {
    "_cell_guid": "e32aec7d-2841-4bfc-a6d2-d181000af4b8",
    "_execution_state": "idle",
    "_uuid": "e8aca612daf293e7228eed9647370036d003e0fb"
   },
   "source": [
    "- **Exterior1st and Exterior2nd** : Again Both Exterior 1 & 2 have only one missing value. We will just substitute in the most common string\n"
   ]
  },
  {
   "cell_type": "code",
   "execution_count": 31,
   "metadata": {
    "_cell_guid": "85903feb-7fdb-4911-9a6a-f29629bbf308",
    "_execution_state": "idle",
    "_uuid": "6375e9c7c145e0f2832cbe03addbce3d90cb44c4"
   },
   "outputs": [],
   "source": [
    "all_data['Exterior1st'] = all_data['Exterior1st'].fillna(all_data['Exterior1st'].mode()[0])\n",
    "all_data['Exterior2nd'] = all_data['Exterior2nd'].fillna(all_data['Exterior2nd'].mode()[0])"
   ]
  },
  {
   "cell_type": "markdown",
   "metadata": {
    "_cell_guid": "b87d629d-6820-4f3e-80f3-efc16436b982",
    "_execution_state": "idle",
    "_uuid": "67f41f0ad648d536d70e2ccb617a4b495fb7f782"
   },
   "source": [
    "- **SaleType** : Fill in again with most frequent which is \"WD\""
   ]
  },
  {
   "cell_type": "code",
   "execution_count": 32,
   "metadata": {
    "_cell_guid": "aaa407ac-ad4a-4313-8530-ac96826be6e5",
    "_execution_state": "idle",
    "_uuid": "06c104efedaf57a4052c8f61c502cb6313e0beea"
   },
   "outputs": [],
   "source": [
    "all_data['SaleType'] = all_data['SaleType'].fillna(all_data['SaleType'].mode()[0])"
   ]
  },
  {
   "cell_type": "markdown",
   "metadata": {
    "_cell_guid": "8ddca94e-7cfa-4f25-9333-29e013c9c30d",
    "_execution_state": "idle",
    "_uuid": "8a3a35f5dc00732929143480a8a0b34a2a502c27"
   },
   "source": [
    "- **MSSubClass** : Na most likely means No building class. We can replace missing values with None\n"
   ]
  },
  {
   "cell_type": "code",
   "execution_count": 33,
   "metadata": {
    "_cell_guid": "23dedd0c-7d5e-4870-8588-8bc4890f627b",
    "_execution_state": "idle",
    "_uuid": "9608a2eada6013e7f14e9341862cca0dca4621e9"
   },
   "outputs": [],
   "source": [
    "\n",
    "all_data['MSSubClass'] = all_data['MSSubClass'].fillna(\"None\")\n",
    "\n"
   ]
  },
  {
   "cell_type": "markdown",
   "metadata": {
    "_cell_guid": "9193270b-8e7b-4a24-b769-d6eb661a1ae7",
    "_execution_state": "idle",
    "_uuid": "465570fcce8944ee31b1709ec6954d03cbf32ff8"
   },
   "source": [
    "Is there any remaining missing value ? "
   ]
  },
  {
   "cell_type": "code",
   "execution_count": 34,
   "metadata": {
    "_cell_guid": "0adf05cf-ce60-4169-805c-ca776e60e85a",
    "_execution_state": "idle",
    "_uuid": "b091fa2ebef19425019e2e550410d0376b9e9fac"
   },
   "outputs": [
    {
     "data": {
      "text/html": [
       "<div>\n",
       "<style scoped>\n",
       "    .dataframe tbody tr th:only-of-type {\n",
       "        vertical-align: middle;\n",
       "    }\n",
       "\n",
       "    .dataframe tbody tr th {\n",
       "        vertical-align: top;\n",
       "    }\n",
       "\n",
       "    .dataframe thead th {\n",
       "        text-align: right;\n",
       "    }\n",
       "</style>\n",
       "<table border=\"1\" class=\"dataframe\">\n",
       "  <thead>\n",
       "    <tr style=\"text-align: right;\">\n",
       "      <th></th>\n",
       "      <th>Missing Ratio</th>\n",
       "    </tr>\n",
       "  </thead>\n",
       "  <tbody>\n",
       "  </tbody>\n",
       "</table>\n",
       "</div>"
      ],
      "text/plain": [
       "Empty DataFrame\n",
       "Columns: [Missing Ratio]\n",
       "Index: []"
      ]
     },
     "execution_count": 34,
     "metadata": {},
     "output_type": "execute_result"
    }
   ],
   "source": [
    "#Check remaining missing values if any \n",
    "all_data_na = (all_data.isnull().sum() / len(all_data)) * 100\n",
    "all_data_na = all_data_na.drop(all_data_na[all_data_na == 0].index).sort_values(ascending=False)\n",
    "missing_data = pd.DataFrame({'Missing Ratio' :all_data_na})\n",
    "missing_data.head()"
   ]
  },
  {
   "cell_type": "markdown",
   "metadata": {
    "_cell_guid": "78266762-5180-44fa-a630-b808706800d4",
    "_execution_state": "idle",
    "_uuid": "360f518886ac45afe2963b9b53edb17c2be4a130"
   },
   "source": [
    "It remains no missing value.\n"
   ]
  },
  {
   "cell_type": "markdown",
   "metadata": {
    "_cell_guid": "7996debf-c724-4365-9d63-f6104bae6140",
    "_execution_state": "idle",
    "_uuid": "915505b9c21b4dd84cc466660a68fb0d6b84cfae"
   },
   "source": [
    "###More features engeneering"
   ]
  },
  {
   "cell_type": "markdown",
   "metadata": {
    "_cell_guid": "0d5076fa-b4ab-4787-bebb-8fd445b8815a",
    "_execution_state": "idle",
    "_uuid": "1cfcb671a97068569efb4e7855da91aa30c5bbde"
   },
   "source": [
    "**Transforming some numerical variables that are really categorical**"
   ]
  },
  {
   "cell_type": "code",
   "execution_count": 35,
   "metadata": {
    "_cell_guid": "a52dc2f9-ca02-4024-987a-165ce630b356",
    "_execution_state": "idle",
    "_uuid": "cc7557817a4442e799e4e4c84dd1efd8bd08867a"
   },
   "outputs": [],
   "source": [
    "#MSSubClass=The building class\n",
    "all_data['MSSubClass'] = all_data['MSSubClass'].apply(str)\n",
    "\n",
    "\n",
    "#Changing OverallCond into a categorical variable\n",
    "all_data['OverallCond'] = all_data['OverallCond'].astype(str)\n",
    "\n",
    "\n",
    "#Year and month sold are transformed into categorical features.\n",
    "all_data['YrSold'] = all_data['YrSold'].astype(str)\n",
    "all_data['MoSold'] = all_data['MoSold'].astype(str)\n",
    "\n"
   ]
  },
  {
   "cell_type": "markdown",
   "metadata": {
    "_cell_guid": "9f80c0e7-3f3f-45c5-b111-e36f4e31e814",
    "_execution_state": "idle",
    "_uuid": "c4743ffb7fbb050edca7c77dc7cb6520577c1398"
   },
   "source": [
    "**Label Encoding some categorical variables that may contain information in their ordering set** "
   ]
  },
  {
   "cell_type": "code",
   "execution_count": 36,
   "metadata": {
    "_cell_guid": "81c97efb-4f76-4e87-861a-10a60ab5c84b",
    "_execution_state": "idle",
    "_uuid": "fdb5ddf0a49a3c6df303c569c9f3509c79ac8b61"
   },
   "outputs": [
    {
     "name": "stdout",
     "output_type": "stream",
     "text": [
      "Shape all_data: (2917, 78)\n"
     ]
    }
   ],
   "source": [
    "from sklearn.preprocessing import LabelEncoder\n",
    "cols = ('FireplaceQu', 'BsmtQual', 'BsmtCond', 'GarageQual', 'GarageCond', \n",
    "        'ExterQual', 'ExterCond','HeatingQC', 'PoolQC', 'KitchenQual', 'BsmtFinType1', \n",
    "        'BsmtFinType2', 'Functional', 'Fence', 'BsmtExposure', 'GarageFinish', 'LandSlope',\n",
    "        'LotShape', 'PavedDrive', 'Street', 'Alley', 'CentralAir', 'MSSubClass', 'OverallCond', \n",
    "        'YrSold', 'MoSold')\n",
    "# process columns, apply LabelEncoder to categorical features\n",
    "for c in cols:\n",
    "    lbl = LabelEncoder() \n",
    "    lbl.fit(list(all_data[c].values)) \n",
    "    all_data[c] = lbl.transform(list(all_data[c].values))\n",
    "\n",
    "# shape        \n",
    "print('Shape all_data: {}'.format(all_data.shape))\n",
    "\n",
    "\n"
   ]
  },
  {
   "cell_type": "markdown",
   "metadata": {
    "_cell_guid": "a4879ef7-ab0d-4955-bc48-7ebcfa04b3bd",
    "_execution_state": "idle",
    "_uuid": "9976d6288bc183d443fbccc2bde439d5bc3a87b1"
   },
   "source": [
    "**Adding one more important feature**"
   ]
  },
  {
   "cell_type": "markdown",
   "metadata": {
    "_cell_guid": "b9486529-a3d2-443d-8a90-6bfbc406583b",
    "_execution_state": "idle",
    "_uuid": "ab22a33cf69e8092b3c4ae0a80b1f5f31b67edbc"
   },
   "source": [
    "Since area related features are very important to determine house prices, we add one more feature which is the total area of basement, first and second floor areas of each house"
   ]
  },
  {
   "cell_type": "code",
   "execution_count": 37,
   "metadata": {
    "_cell_guid": "fc1a8f1a-f003-4538-8e60-d819f46362a3",
    "_execution_state": "idle",
    "_uuid": "208f8d22188786227fff4a978dc3b11b4e1ffd90"
   },
   "outputs": [],
   "source": [
    "# Adding total sqfootage feature \n",
    "all_data['TotalSF'] = all_data['TotalBsmtSF'] + all_data['1stFlrSF'] + all_data['2ndFlrSF']\n"
   ]
  },
  {
   "cell_type": "markdown",
   "metadata": {
    "_cell_guid": "91c73aad-82d1-4301-b540-b2f69dc13902",
    "_execution_state": "idle",
    "_uuid": "aa36d6e3253e354b46d9c9c6f2e8a4089c76be16"
   },
   "source": [
    "**Skewed features**"
   ]
  },
  {
   "cell_type": "code",
   "execution_count": 38,
   "metadata": {
    "_cell_guid": "c5972a73-7e86-4164-a9d6-58432dae1933",
    "_execution_state": "idle",
    "_uuid": "53c471c7008c66590f257e70866f8a3037813f13"
   },
   "outputs": [
    {
     "name": "stdout",
     "output_type": "stream",
     "text": [
      "\n",
      "Skew in numerical features: \n",
      "\n"
     ]
    },
    {
     "data": {
      "text/html": [
       "<div>\n",
       "<style scoped>\n",
       "    .dataframe tbody tr th:only-of-type {\n",
       "        vertical-align: middle;\n",
       "    }\n",
       "\n",
       "    .dataframe tbody tr th {\n",
       "        vertical-align: top;\n",
       "    }\n",
       "\n",
       "    .dataframe thead th {\n",
       "        text-align: right;\n",
       "    }\n",
       "</style>\n",
       "<table border=\"1\" class=\"dataframe\">\n",
       "  <thead>\n",
       "    <tr style=\"text-align: right;\">\n",
       "      <th></th>\n",
       "      <th>Skew</th>\n",
       "    </tr>\n",
       "  </thead>\n",
       "  <tbody>\n",
       "    <tr>\n",
       "      <th>MiscVal</th>\n",
       "      <td>21.940</td>\n",
       "    </tr>\n",
       "    <tr>\n",
       "      <th>PoolArea</th>\n",
       "      <td>17.689</td>\n",
       "    </tr>\n",
       "    <tr>\n",
       "      <th>LotArea</th>\n",
       "      <td>13.109</td>\n",
       "    </tr>\n",
       "    <tr>\n",
       "      <th>LowQualFinSF</th>\n",
       "      <td>12.085</td>\n",
       "    </tr>\n",
       "    <tr>\n",
       "      <th>3SsnPorch</th>\n",
       "      <td>11.372</td>\n",
       "    </tr>\n",
       "    <tr>\n",
       "      <th>LandSlope</th>\n",
       "      <td>4.973</td>\n",
       "    </tr>\n",
       "    <tr>\n",
       "      <th>KitchenAbvGr</th>\n",
       "      <td>4.301</td>\n",
       "    </tr>\n",
       "    <tr>\n",
       "      <th>BsmtFinSF2</th>\n",
       "      <td>4.145</td>\n",
       "    </tr>\n",
       "    <tr>\n",
       "      <th>EnclosedPorch</th>\n",
       "      <td>4.002</td>\n",
       "    </tr>\n",
       "    <tr>\n",
       "      <th>ScreenPorch</th>\n",
       "      <td>3.945</td>\n",
       "    </tr>\n",
       "  </tbody>\n",
       "</table>\n",
       "</div>"
      ],
      "text/plain": [
       "                Skew\n",
       "MiscVal       21.940\n",
       "PoolArea      17.689\n",
       "LotArea       13.109\n",
       "LowQualFinSF  12.085\n",
       "3SsnPorch     11.372\n",
       "LandSlope      4.973\n",
       "KitchenAbvGr   4.301\n",
       "BsmtFinSF2     4.145\n",
       "EnclosedPorch  4.002\n",
       "ScreenPorch    3.945"
      ]
     },
     "execution_count": 38,
     "metadata": {},
     "output_type": "execute_result"
    }
   ],
   "source": [
    "numeric_feats = all_data.dtypes[all_data.dtypes != \"object\"].index\n",
    "\n",
    "# Check the skew of all numerical features\n",
    "skewed_feats = all_data[numeric_feats].apply(lambda x: skew(x.dropna())).sort_values(ascending=False)\n",
    "print(\"\\nSkew in numerical features: \\n\")\n",
    "skewness = pd.DataFrame({'Skew' :skewed_feats})\n",
    "skewness.head(10)\n"
   ]
  },
  {
   "cell_type": "markdown",
   "metadata": {
    "_cell_guid": "9f110087-b707-4073-a1df-0a0a9d6ccbd3",
    "_execution_state": "idle",
    "_uuid": "cf63bdc9f4f80d81f1bfa14f89d65ff104d45e5b"
   },
   "source": [
    "**Box Cox Transformation of (highly) skewed features**"
   ]
  },
  {
   "cell_type": "markdown",
   "metadata": {
    "_cell_guid": "d1d18243-42d8-4a21-808d-784c21e53973",
    "_execution_state": "idle",
    "_uuid": "eab0b4c0a85ae2fbe1bdeea0eedd113904ef3eb1"
   },
   "source": [
    "We use the scipy  function boxcox1p which computes the Box-Cox transformation of **\\\\(1 + x\\\\)**. \n",
    "\n",
    "Note that setting \\\\( \\lambda = 0 \\\\) is equivalent to log1p used above for the target variable.  \n",
    "\n",
    "See [this page][1] for more details on Box Cox Transformation as well as [the scipy function's page][2]\n",
    "[1]: http://onlinestatbook.com/2/transformations/box-cox.html\n",
    "[2]: https://docs.scipy.org/doc/scipy-0.19.0/reference/generated/scipy.special.boxcox1p.html"
   ]
  },
  {
   "cell_type": "code",
   "execution_count": 39,
   "metadata": {
    "_cell_guid": "d8ebce87-c55d-46c6-8f06-8b34116d7370",
    "_execution_state": "idle",
    "_uuid": "969fdff338ef46f064d8f855782c96d322a264b1"
   },
   "outputs": [
    {
     "name": "stdout",
     "output_type": "stream",
     "text": [
      "There are 59 skewed numerical features to Box Cox transform\n"
     ]
    }
   ],
   "source": [
    "skewness = skewness[abs(skewness) > 0.75]\n",
    "print(\"There are {} skewed numerical features to Box Cox transform\".format(skewness.shape[0]))\n",
    "\n",
    "from scipy.special import boxcox1p\n",
    "skewed_features = skewness.index\n",
    "lam = 0.15\n",
    "for feat in skewed_features:\n",
    "    #all_data[feat] += 1\n",
    "    all_data[feat] = boxcox1p(all_data[feat], lam)\n",
    "    \n",
    "#all_data[skewed_features] = np.log1p(all_data[skewed_features])"
   ]
  },
  {
   "cell_type": "markdown",
   "metadata": {
    "_cell_guid": "39639caf-31a4-4401-a663-0ba9536b39bf",
    "_execution_state": "idle",
    "_uuid": "5a13a6e2a3e48975de9129d1593bd38df44a1069"
   },
   "source": [
    "**Getting dummy categorical features**"
   ]
  },
  {
   "cell_type": "code",
   "execution_count": 40,
   "metadata": {
    "_cell_guid": "c8e63516-e4e2-4f36-a60e-1c8316392c60",
    "_execution_state": "idle",
    "_uuid": "acd44e283867425257ffd1fb2f4893cdbff43f67"
   },
   "outputs": [
    {
     "name": "stdout",
     "output_type": "stream",
     "text": [
      "(2917, 220)\n"
     ]
    }
   ],
   "source": [
    "\n",
    "all_data = pd.get_dummies(all_data)\n",
    "print(all_data.shape)"
   ]
  },
  {
   "cell_type": "markdown",
   "metadata": {
    "_cell_guid": "243cf047-c2ba-4ae5-a531-22ef9b7cfbfe",
    "_execution_state": "idle",
    "_uuid": "fe9d78c7e37142ee8089826eca3065e0fa5803c1"
   },
   "source": [
    "Getting the new train and test sets. "
   ]
  },
  {
   "cell_type": "code",
   "execution_count": 41,
   "metadata": {
    "_cell_guid": "0a75646f-1974-40ad-a085-ff7bc08454a5",
    "_execution_state": "idle",
    "_uuid": "89e464095544a53177d5a009b914ba4c660072a7"
   },
   "outputs": [],
   "source": [
    "train = all_data[:ntrain]\n",
    "test = all_data[ntrain:]\n"
   ]
  },
  {
   "cell_type": "markdown",
   "metadata": {
    "_cell_guid": "461af83d-a928-4645-8512-5e4dbcaf7be0",
    "_execution_state": "idle",
    "_uuid": "10aab4cee97832560e2627a490e01e80c0ffb814"
   },
   "source": [
    "#Modelling"
   ]
  },
  {
   "cell_type": "markdown",
   "metadata": {
    "_cell_guid": "811925a6-341f-4cae-89c9-00983868a6b2",
    "_execution_state": "idle",
    "_uuid": "be4e4b315682b26359eba1ba3d65022aca9501e1"
   },
   "source": [
    "**Import librairies**"
   ]
  },
  {
   "cell_type": "code",
   "execution_count": 42,
   "metadata": {
    "_cell_guid": "135e8ac5-ce46-4a5f-b205-13f827ef33b8",
    "_execution_state": "idle",
    "_uuid": "fc664fbe27561a3697d0210921107b0e14b7d211"
   },
   "outputs": [],
   "source": [
    "from sklearn.linear_model import ElasticNet, Lasso,  BayesianRidge, LassoLarsIC\n",
    "from sklearn.ensemble import RandomForestRegressor,  GradientBoostingRegressor\n",
    "from sklearn.kernel_ridge import KernelRidge\n",
    "from sklearn.pipeline import make_pipeline\n",
    "from sklearn.preprocessing import RobustScaler\n",
    "from sklearn.base import BaseEstimator, TransformerMixin, RegressorMixin, clone\n",
    "from sklearn.model_selection import KFold, cross_val_score, train_test_split\n",
    "from sklearn.metrics import mean_squared_error\n",
    "import xgboost as xgb\n",
    "import lightgbm as lgb\n",
    "\n"
   ]
  },
  {
   "cell_type": "markdown",
   "metadata": {
    "_cell_guid": "7aa6ebb9-27a7-4bd3-a7b2-4ddc6a0abbed",
    "_execution_state": "idle",
    "_uuid": "056b657c8f0de30d4708c600eabbb33684c64479"
   },
   "source": [
    "**Define a cross validation strategy**"
   ]
  },
  {
   "cell_type": "markdown",
   "metadata": {
    "_cell_guid": "4a2b5181-44f2-4c74-b482-aae0f5afc25a",
    "_execution_state": "idle",
    "_uuid": "dc0d7a3013f349988b3f2c84a6c130d6ad350170"
   },
   "source": [
    "We use the **cross_val_score** function of Sklearn. However this function has not a shuffle attribut, we add then one line of code,  in order to shuffle the dataset  prior to cross-validation"
   ]
  },
  {
   "cell_type": "code",
   "execution_count": 43,
   "metadata": {
    "_cell_guid": "f396260b-e182-4a87-9a2a-b92b9375ea6f",
    "_execution_state": "idle",
    "_uuid": "5c12551d092a6c5cf32d86398b054da7af3047b8"
   },
   "outputs": [],
   "source": [
    "#Validation function\n",
    "n_folds = 5\n",
    "\n",
    "def rmsle_cv(model):\n",
    "    kf = KFold(n_folds, shuffle=True, random_state=42).get_n_splits(train.values)\n",
    "    rmse= np.sqrt(-cross_val_score(model, train.values, y_train, scoring=\"neg_mean_squared_error\", cv = kf))\n",
    "    return(rmse)"
   ]
  },
  {
   "cell_type": "markdown",
   "metadata": {
    "_cell_guid": "42e1565e-77a1-41a7-ac31-893e405d34ad",
    "_execution_state": "busy",
    "_uuid": "643ae2c4a88576ebbd55824ce8e654486087a6e0"
   },
   "source": [
    "##Base models"
   ]
  },
  {
   "cell_type": "markdown",
   "metadata": {
    "_cell_guid": "578f088d-1a84-41cb-b945-ec64800f2308",
    "_execution_state": "idle",
    "_uuid": "370125198a0cbbc9336cbf179f00a2ebb02cb063"
   },
   "source": [
    "-  **LASSO  Regression**  : \n",
    "\n",
    "This model may be very sensitive to outliers. So we need to made it more robust on them. For that we use the sklearn's  **Robustscaler()**  method on pipeline "
   ]
  },
  {
   "cell_type": "code",
   "execution_count": 44,
   "metadata": {
    "_cell_guid": "03f45cb7-0a40-45ea-94e8-64fd7ff1e8f6",
    "_execution_state": "idle",
    "_uuid": "2a50c954cb771d350c3092c3658486ba4d22aba5"
   },
   "outputs": [],
   "source": [
    "lasso = make_pipeline(RobustScaler(), Lasso(alpha =0.0005, random_state=1))"
   ]
  },
  {
   "cell_type": "markdown",
   "metadata": {
    "_cell_guid": "2c826f7b-ac66-421c-a7ae-29dfdd765bdb",
    "_execution_state": "idle",
    "_uuid": "30e9756cf63991715b48e8c53bc57906fc76f380"
   },
   "source": [
    "- **Elastic Net Regression** :\n",
    "\n",
    "again made robust to outliers"
   ]
  },
  {
   "cell_type": "code",
   "execution_count": 45,
   "metadata": {
    "_cell_guid": "e635cc7e-caeb-4f8b-ae78-c41f8eb0be59",
    "_execution_state": "idle",
    "_uuid": "b614cf1bdee86a3b1cbdde05298f9f7ae023799b"
   },
   "outputs": [],
   "source": [
    "ENet = make_pipeline(RobustScaler(), ElasticNet(alpha=0.0005, l1_ratio=.9, random_state=3))"
   ]
  },
  {
   "cell_type": "markdown",
   "metadata": {
    "_cell_guid": "7aae5316-4e32-4203-bff5-3b38c1f657c3",
    "_execution_state": "idle",
    "_uuid": "0775061bb477242f1332a048778e879ca540a216"
   },
   "source": [
    "- **Kernel Ridge Regression** :"
   ]
  },
  {
   "cell_type": "code",
   "execution_count": 46,
   "metadata": {
    "_cell_guid": "805343d9-0af6-43a2-a351-c0b25c62fcf0",
    "_execution_state": "idle",
    "_uuid": "3199c83513d93407c818ce1ed43c6c52e7f5a8c6"
   },
   "outputs": [],
   "source": [
    "KRR = KernelRidge(alpha=0.6, kernel='polynomial', degree=2, coef0=2.5)"
   ]
  },
  {
   "cell_type": "markdown",
   "metadata": {
    "_cell_guid": "5a66c27c-be80-4ec0-8953-eaeb2a7dd2e7",
    "_execution_state": "idle",
    "_uuid": "14b60a7e4296cccb39042c9c625a1480d59a01c1"
   },
   "source": [
    "- **Gradient Boosting Regression** :\n",
    "\n",
    "With **huber**  loss that makes it robust to outliers\n",
    "    "
   ]
  },
  {
   "cell_type": "code",
   "execution_count": 47,
   "metadata": {
    "_cell_guid": "af13332c-fd37-40bb-a078-6bad6caaa2ab",
    "_execution_state": "idle",
    "_uuid": "9a983f0f62a0dde7689b20a8e52022bb189478b4"
   },
   "outputs": [],
   "source": [
    "GBoost = GradientBoostingRegressor(n_estimators=3000, learning_rate=0.05,\n",
    "                                   max_depth=4, max_features='sqrt',\n",
    "                                   min_samples_leaf=15, min_samples_split=10, \n",
    "                                   loss='huber', random_state =5)"
   ]
  },
  {
   "cell_type": "markdown",
   "metadata": {
    "_cell_guid": "d44ac87e-bf01-440b-ab22-b2868eb6ae48",
    "_execution_state": "idle",
    "_uuid": "53d7991f7dd03fcd7fb5ab1ec26fcd0614d002d3"
   },
   "source": [
    "- **XGBoost** :"
   ]
  },
  {
   "cell_type": "code",
   "execution_count": 48,
   "metadata": {
    "_cell_guid": "ed738a4c-c246-443c-a3c1-39df25f988b7",
    "_execution_state": "idle",
    "_uuid": "57c24b596ceb46d6f32ebf9501d672d7e469c15b"
   },
   "outputs": [],
   "source": [
    "model_xgb = xgb.XGBRegressor(colsample_bytree=0.4603, gamma=0.0468, \n",
    "                             learning_rate=0.05, max_depth=3, \n",
    "                             min_child_weight=1.7817, n_estimators=2200,\n",
    "                             reg_alpha=0.4640, reg_lambda=0.8571,\n",
    "                             subsample=0.5213, silent=1,\n",
    "                             random_state =7, nthread = -1)\n",
    "\n"
   ]
  },
  {
   "cell_type": "markdown",
   "metadata": {
    "_cell_guid": "a43ca74d-093c-4a56-a76c-b3223bf82fbc",
    "_execution_state": "idle",
    "_uuid": "460f3ccf7d5c33ea9f8a826bbf056d759e7b5119"
   },
   "source": [
    "- **LightGBM** :"
   ]
  },
  {
   "cell_type": "code",
   "execution_count": 49,
   "metadata": {
    "_cell_guid": "dd84d7db-3f83-4e4e-b02f-7632ca5ee4ac",
    "_execution_state": "idle",
    "_uuid": "4c94cf90f0ef0d350c5e66f3bd397865bfcc61ae"
   },
   "outputs": [],
   "source": [
    "model_lgb = lgb.LGBMRegressor(objective='regression',num_leaves=5,\n",
    "                              learning_rate=0.05, n_estimators=720,\n",
    "                              max_bin = 55, bagging_fraction = 0.8,\n",
    "                              bagging_freq = 5, feature_fraction = 0.2319,\n",
    "                              feature_fraction_seed=9, bagging_seed=9,\n",
    "                              min_data_in_leaf =6, min_sum_hessian_in_leaf = 11)"
   ]
  },
  {
   "cell_type": "markdown",
   "metadata": {
    "_cell_guid": "9e1eff6a-e937-45e4-96ef-41593e31e1bb",
    "_execution_state": "idle",
    "_uuid": "71bce529300e2f3d9f9f475d01bd7001258dbede"
   },
   "source": [
    "###Base models scores"
   ]
  },
  {
   "cell_type": "markdown",
   "metadata": {
    "_cell_guid": "84ddecce-7671-44e5-919d-97348bf413f4",
    "_execution_state": "idle",
    "_uuid": "cae4987b8ec89e90a90d7826c4ec98d315cac00b"
   },
   "source": [
    "Let's see how these base models perform on the data by evaluating the  cross-validation rmsle error"
   ]
  },
  {
   "cell_type": "code",
   "execution_count": 50,
   "metadata": {
    "_cell_guid": "2d0cc958-1654-425c-90ed-1ceb9edd7186",
    "_execution_state": "idle",
    "_uuid": "7d994349237b9304b0d17719e1af077e69288229"
   },
   "outputs": [
    {
     "name": "stdout",
     "output_type": "stream",
     "text": [
      "\n",
      "Lasso score: 0.1115 (0.0074)\n",
      "\n"
     ]
    }
   ],
   "source": [
    "score = rmsle_cv(lasso)\n",
    "print(\"\\nLasso score: {:.4f} ({:.4f})\\n\".format(score.mean(), score.std()))"
   ]
  },
  {
   "cell_type": "code",
   "execution_count": 51,
   "metadata": {
    "_cell_guid": "7cf6faaf-d69a-4268-b192-a9e60d207c28",
    "_execution_state": "idle",
    "_uuid": "b6d299b9d4a0cdb23ddd8459b3935da2948016d6"
   },
   "outputs": [
    {
     "name": "stdout",
     "output_type": "stream",
     "text": [
      "ElasticNet score: 0.1116 (0.0074)\n",
      "\n"
     ]
    }
   ],
   "source": [
    "score = rmsle_cv(ENet)\n",
    "print(\"ElasticNet score: {:.4f} ({:.4f})\\n\".format(score.mean(), score.std()))"
   ]
  },
  {
   "cell_type": "code",
   "execution_count": 52,
   "metadata": {
    "_cell_guid": "a1195106-2170-47f2-86a7-c4f3be683aa8",
    "_execution_state": "idle",
    "_uuid": "437dc093e88d661a369539520af1b4c37d1a0c1a"
   },
   "outputs": [
    {
     "name": "stdout",
     "output_type": "stream",
     "text": [
      "Kernel Ridge score: 0.1153 (0.0075)\n",
      "\n"
     ]
    }
   ],
   "source": [
    "score = rmsle_cv(KRR)\n",
    "print(\"Kernel Ridge score: {:.4f} ({:.4f})\\n\".format(score.mean(), score.std()))"
   ]
  },
  {
   "cell_type": "code",
   "execution_count": 53,
   "metadata": {
    "_cell_guid": "43dd152f-7c49-41b6-8f8e-a5864b1e2a71",
    "_execution_state": "idle",
    "_uuid": "e9d8c4bd191f77d8d275f53c0c1a6cf344151294"
   },
   "outputs": [
    {
     "name": "stdout",
     "output_type": "stream",
     "text": [
      "Gradient Boosting score: 0.1177 (0.0080)\n",
      "\n"
     ]
    }
   ],
   "source": [
    "score = rmsle_cv(GBoost)\n",
    "print(\"Gradient Boosting score: {:.4f} ({:.4f})\\n\".format(score.mean(), score.std()))"
   ]
  },
  {
   "cell_type": "code",
   "execution_count": 54,
   "metadata": {
    "_cell_guid": "30738ecc-39f8-44ed-9f42-68518beb7e6a",
    "_execution_state": "idle",
    "_uuid": "5f52ccf39d01165e61a7c6be8b788be4e58e286b"
   },
   "outputs": [
    {
     "name": "stdout",
     "output_type": "stream",
     "text": [
      "Xgboost score: 0.1151 (0.0072)\n",
      "\n"
     ]
    }
   ],
   "source": [
    "\n",
    "score = rmsle_cv(model_xgb)\n",
    "print(\"Xgboost score: {:.4f} ({:.4f})\\n\".format(score.mean(), score.std()))"
   ]
  },
  {
   "cell_type": "code",
   "execution_count": 55,
   "metadata": {
    "_cell_guid": "41e0eab9-630d-48d3-905b-e4663aad2262",
    "_execution_state": "idle",
    "_uuid": "5cd5377ee097fbc6fd14b42b4ea654221b097e59"
   },
   "outputs": [
    {
     "name": "stdout",
     "output_type": "stream",
     "text": [
      "LGBM score: 0.1162 (0.0075)\n",
      "\n"
     ]
    }
   ],
   "source": [
    "score = rmsle_cv(model_lgb)\n",
    "print(\"LGBM score: {:.4f} ({:.4f})\\n\" .format(score.mean(), score.std()))"
   ]
  },
  {
   "cell_type": "markdown",
   "metadata": {
    "_cell_guid": "1114bc71-7eb5-4a7c-97a1-42a69cc21130",
    "_execution_state": "idle",
    "_uuid": "06d3adc16585b54a85113882975297c67672ea07"
   },
   "source": [
    "##Stacking  models"
   ]
  },
  {
   "cell_type": "markdown",
   "metadata": {
    "_cell_guid": "56746043-0d77-4687-a8f2-ae494efae3a8",
    "_execution_state": "idle",
    "_uuid": "2410d2172ddc108475db49214c52c21e66aeee59"
   },
   "source": [
    "###Simplest Stacking approach : Averaging base models"
   ]
  },
  {
   "cell_type": "markdown",
   "metadata": {
    "_cell_guid": "96d5979d-73ba-4810-bee2-e1a7a8de57f6",
    "_execution_state": "idle",
    "_uuid": "c6e3a67facbc786ddec2f56b40b4da37726d1be5"
   },
   "source": [
    "We begin with this simple approach of averaging base models.  We build a new **class**  to extend scikit-learn with our model and also to laverage encapsulation and code reuse ([inheritance][1]) \n",
    "\n",
    "\n",
    "  [1]: https://en.wikipedia.org/wiki/Inheritance_(object-oriented_programming)"
   ]
  },
  {
   "cell_type": "markdown",
   "metadata": {
    "_cell_guid": "d0145496-896a-44e3-b01b-e12546328f06",
    "_execution_state": "idle",
    "_uuid": "5ecc887f1ab4001c872862cecf3a0b350ac51a23"
   },
   "source": [
    "**Averaged base models class**"
   ]
  },
  {
   "cell_type": "code",
   "execution_count": 56,
   "metadata": {
    "_cell_guid": "49e44ad6-8dc4-4a67-8079-adbac934fec4",
    "_execution_state": "idle",
    "_uuid": "ff3ee5889bcac40847909c3a71285d2b8f9d431f"
   },
   "outputs": [],
   "source": [
    "class AveragingModels(BaseEstimator, RegressorMixin, TransformerMixin):\n",
    "    def __init__(self, models):\n",
    "        self.models = models\n",
    "        \n",
    "    # we define clones of the original models to fit the data in\n",
    "    def fit(self, X, y):\n",
    "        self.models_ = [clone(x) for x in self.models]\n",
    "        \n",
    "        # Train cloned base models\n",
    "        for model in self.models_:\n",
    "            model.fit(X, y)\n",
    "\n",
    "        return self\n",
    "    \n",
    "    #Now we do the predictions for cloned models and average them\n",
    "    def predict(self, X):\n",
    "        predictions = np.column_stack([\n",
    "            model.predict(X) for model in self.models_\n",
    "        ])\n",
    "        return np.mean(predictions, axis=1)   "
   ]
  },
  {
   "cell_type": "markdown",
   "metadata": {
    "_cell_guid": "825eb99f-d509-4203-b0c6-4ff77f696322",
    "_execution_state": "idle",
    "_uuid": "f05bf966ea7a7b5e6f8ca5d641ebd11281d54d0d"
   },
   "source": [
    "**Averaged base models score**"
   ]
  },
  {
   "cell_type": "markdown",
   "metadata": {
    "_cell_guid": "18209a57-f46d-4ce7-8331-834f419c57f2",
    "_execution_state": "idle",
    "_uuid": "b66ef29c829b7122a2e8e2d187211039570973ac"
   },
   "source": [
    "We just average four models here **ENet, GBoost,  KRR and lasso**.  Of course we could easily add more models in the mix. "
   ]
  },
  {
   "cell_type": "code",
   "execution_count": 57,
   "metadata": {
    "_cell_guid": "d480916f-89e7-4bcc-9b9d-b54492591654",
    "_execution_state": "idle",
    "_uuid": "81ce9e148b7e735f465b4b6508511dea44fbf791"
   },
   "outputs": [
    {
     "name": "stdout",
     "output_type": "stream",
     "text": [
      " Averaged base models score: 0.1091 (0.0075)\n",
      "\n"
     ]
    }
   ],
   "source": [
    "averaged_models = AveragingModels(models = (ENet, GBoost, KRR, lasso))\n",
    "\n",
    "score = rmsle_cv(averaged_models)\n",
    "print(\" Averaged base models score: {:.4f} ({:.4f})\\n\".format(score.mean(), score.std()))"
   ]
  },
  {
   "cell_type": "markdown",
   "metadata": {
    "_cell_guid": "588f9fd2-0c5e-43cd-8a0a-0271f2468ef7",
    "_execution_state": "idle",
    "_uuid": "421c03673969c6a2dd2253f9d4c503ab1276b105"
   },
   "source": [
    "Wow ! It seems even the simplest stacking approach really improve the score . This encourages \n",
    "us to go further and explore a less simple stacking approch. "
   ]
  },
  {
   "cell_type": "markdown",
   "metadata": {
    "_cell_guid": "387761c7-9dc5-41aa-8cda-5315b6a72fbf",
    "_execution_state": "idle",
    "_uuid": "01b68302f0ec3af42a70794bc339bf5956ab2569"
   },
   "source": [
    "###Less simple Stacking : Adding a Meta-model"
   ]
  },
  {
   "cell_type": "markdown",
   "metadata": {
    "_cell_guid": "cb18e314-968d-4765-942a-5706d0f4f815",
    "_execution_state": "idle",
    "_uuid": "69f216ce13eb61f0d07403986a2d38b11e18ae6a"
   },
   "source": [
    "In this approach, we add a meta-model on averaged base models and use the out-of-folds predictions of these base models to train our meta-model. \n",
    "\n",
    "The procedure, for the training part, may be described as follows:\n",
    "\n",
    "\n",
    "1. Split the total training set into two disjoint sets (here **train** and .**holdout** )\n",
    "\n",
    "2. Train several base models on the first part (**train**)\n",
    "\n",
    "3. Test these base models on the second part (**holdout**)\n",
    "\n",
    "4. Use the predictions from 3)  (called  out-of-folds predictions) as the inputs, and the correct responses (target variable) as the outputs  to train a higher level learner called **meta-model**.\n",
    "\n",
    "The first three steps are done iteratively . If we take for example a 5-fold stacking , we first split the training data into 5 folds. Then we will do 5 iterations. In each iteration,  we train every base model on 4 folds and predict on the remaining fold (holdout fold). \n",
    "\n",
    "So, we will be sure, after 5 iterations , that the entire data is used to get out-of-folds predictions that we will then use as \n",
    "new feature to train our meta-model in the step 4.\n",
    "\n",
    "For the prediction part , We average the predictions of  all base models on the test data  and used them as **meta-features**  on which, the final prediction is done with the meta-model.\n"
   ]
  },
  {
   "cell_type": "markdown",
   "metadata": {
    "_cell_guid": "7a1d4b95-ad19-4522-8459-99f0839a49bb",
    "_uuid": "5e232cc0edea67af1fc672ee07a93c435e7e2f98"
   },
   "source": [
    "![Faron](http://i.imgur.com/QBuDOjs.jpg)\n",
    "\n",
    "(Image taken from [Faron](https://www.kaggle.com/getting-started/18153#post103381))"
   ]
  },
  {
   "cell_type": "markdown",
   "metadata": {
    "_cell_guid": "9e3f01cb-cd76-4861-81c0-775c613f7d7f",
    "_uuid": "7c4d68ee6e6dffdf0b816bee48fd55b29bd66386"
   },
   "source": [
    "![kaz](http://5047-presscdn.pagely.netdna-cdn.com/wp-content/uploads/2017/06/image5.gif)\n",
    "\n",
    "Gif taken from [KazAnova's interview](http://blog.kaggle.com/2017/06/15/stacking-made-easy-an-introduction-to-stacknet-by-competitions-grandmaster-marios-michailidis-kazanova/)"
   ]
  },
  {
   "cell_type": "markdown",
   "metadata": {
    "_cell_guid": "b9ca03ee-0377-4313-a236-59d3d972cac3",
    "_uuid": "a46c5bab3855a4728c52765379c1674de3123a25"
   },
   "source": [
    "On this gif, the base models are algorithms 0, 1, 2 and the meta-model is algorithm 3. The entire training dataset is \n",
    "A+B (target variable y known) that we can split into train part (A) and holdout part (B). And the test dataset is C. \n",
    "\n",
    "B1 (which is the prediction from the holdout part)  is the new feature used to train the meta-model 3 and C1 (which\n",
    "is the prediction  from the test dataset) is the meta-feature on which the final prediction is done. "
   ]
  },
  {
   "cell_type": "markdown",
   "metadata": {
    "_cell_guid": "bd10661e-6eec-4789-83fa-d55b77619252",
    "_execution_state": "idle",
    "_uuid": "5374a729325ac38423ff82891f1cc887f14ba317"
   },
   "source": [
    "**Stacking averaged Models Class**"
   ]
  },
  {
   "cell_type": "code",
   "execution_count": 58,
   "metadata": {
    "_cell_guid": "03326750-2442-4e14-8774-6e2ce9330173",
    "_execution_state": "idle",
    "_uuid": "9115cf7180ba9491bd0a2c5bd566e18238c9de80"
   },
   "outputs": [],
   "source": [
    "class StackingAveragedModels(BaseEstimator, RegressorMixin, TransformerMixin):\n",
    "    def __init__(self, base_models, meta_model, n_folds=5):\n",
    "        self.base_models = base_models\n",
    "        self.meta_model = meta_model\n",
    "        self.n_folds = n_folds\n",
    "   \n",
    "    # We again fit the data on clones of the original models\n",
    "    def fit(self, X, y):\n",
    "        self.base_models_ = [list() for x in self.base_models]\n",
    "        self.meta_model_ = clone(self.meta_model)\n",
    "        kfold = KFold(n_splits=self.n_folds, shuffle=True, random_state=156)\n",
    "        \n",
    "        # Train cloned base models then create out-of-fold predictions\n",
    "        # that are needed to train the cloned meta-model\n",
    "        out_of_fold_predictions = np.zeros((X.shape[0], len(self.base_models)))\n",
    "        for i, model in enumerate(self.base_models):\n",
    "            for train_index, holdout_index in kfold.split(X, y):\n",
    "                instance = clone(model)\n",
    "                self.base_models_[i].append(instance)\n",
    "                instance.fit(X[train_index], y[train_index])\n",
    "                y_pred = instance.predict(X[holdout_index])\n",
    "                out_of_fold_predictions[holdout_index, i] = y_pred\n",
    "                \n",
    "        # Now train the cloned  meta-model using the out-of-fold predictions as new feature\n",
    "        self.meta_model_.fit(out_of_fold_predictions, y)\n",
    "        return self\n",
    "   \n",
    "    #Do the predictions of all base models on the test data and use the averaged predictions as \n",
    "    #meta-features for the final prediction which is done by the meta-model\n",
    "    def predict(self, X):\n",
    "        meta_features = np.column_stack([\n",
    "            np.column_stack([model.predict(X) for model in base_models]).mean(axis=1)\n",
    "            for base_models in self.base_models_ ])\n",
    "        return self.meta_model_.predict(meta_features)"
   ]
  },
  {
   "cell_type": "markdown",
   "metadata": {
    "_cell_guid": "da4c9354-b5c2-4994-8ffd-550416a5c4db",
    "_execution_state": "idle",
    "_uuid": "5fdbcf5c678b260adf80cf39b0f3bb63a26213e1"
   },
   "source": [
    "**Stacking Averaged models Score**"
   ]
  },
  {
   "cell_type": "markdown",
   "metadata": {
    "_cell_guid": "03abed3d-205c-411d-89de-b566b7f1f708",
    "_execution_state": "idle",
    "_uuid": "10fdbde25e455566637627554269adff7dfec193"
   },
   "source": [
    "To make the two approaches comparable (by using the same number of models) , we just average **Enet KRR and Gboost**, then we add **lasso as meta-model**."
   ]
  },
  {
   "cell_type": "code",
   "execution_count": 59,
   "metadata": {
    "_cell_guid": "4db03a27-e9fb-484d-bbfe-2058f16dce77",
    "_execution_state": "idle",
    "_uuid": "f2c78b5950097660d3f8b84bade8d8dbdc3964f2"
   },
   "outputs": [
    {
     "name": "stdout",
     "output_type": "stream",
     "text": [
      "Stacking Averaged models score: 0.1085 (0.0074)\n"
     ]
    }
   ],
   "source": [
    "stacked_averaged_models = StackingAveragedModels(base_models = (ENet, GBoost, KRR),\n",
    "                                                 meta_model = lasso)\n",
    "\n",
    "score = rmsle_cv(stacked_averaged_models)\n",
    "print(\"Stacking Averaged models score: {:.4f} ({:.4f})\".format(score.mean(), score.std()))"
   ]
  },
  {
   "cell_type": "markdown",
   "metadata": {
    "_cell_guid": "61f0f9af-9264-4945-829a-c629ed6a3299",
    "_execution_state": "idle",
    "_uuid": "0ca396a31059f16aff47e0d53d011865634e101e"
   },
   "source": [
    "We get again a better score by adding a meta learner"
   ]
  },
  {
   "cell_type": "markdown",
   "metadata": {
    "_cell_guid": "1cc6527c-4705-4895-992f-0c3755b27cee",
    "_execution_state": "idle",
    "_uuid": "75e8303614ea910f93056a8bdc4cd9cfe62ecd46"
   },
   "source": [
    "## Ensembling StackedRegressor, XGBoost and LightGBM"
   ]
  },
  {
   "cell_type": "markdown",
   "metadata": {
    "_cell_guid": "15f8fed4-bbf8-4eca-b400-8ea194010c78",
    "_execution_state": "idle",
    "_uuid": "5835af97aef41c60ea448988c606cd6a1f451712"
   },
   "source": [
    "We add **XGBoost and LightGBM** to the** StackedRegressor** defined previously. "
   ]
  },
  {
   "cell_type": "markdown",
   "metadata": {
    "_cell_guid": "5ab5b13e-78c1-49be-9bcb-e54a6bf119d7",
    "_execution_state": "idle",
    "_uuid": "9015eddf85323209a7729420affecb9940bdd7d3"
   },
   "source": [
    "We first define a rmsle evaluation function "
   ]
  },
  {
   "cell_type": "code",
   "execution_count": 60,
   "metadata": {
    "_cell_guid": "232c3959-c6e1-4535-8ad4-62892edc3f06",
    "_execution_state": "idle",
    "_uuid": "07f9ef433905b61a08a36790254d6a34661f0653"
   },
   "outputs": [],
   "source": [
    "def rmsle(y, y_pred):\n",
    "    return np.sqrt(mean_squared_error(y, y_pred))"
   ]
  },
  {
   "cell_type": "markdown",
   "metadata": {
    "_cell_guid": "999a8cc6-5083-4fca-bc90-616ac2f3ef8b",
    "_execution_state": "idle",
    "_uuid": "b7b74b70e6514b7623bc67cfec2b4f5d37c98707"
   },
   "source": [
    "###Final Training and Prediction"
   ]
  },
  {
   "cell_type": "markdown",
   "metadata": {
    "_cell_guid": "717b4b02-8bcf-4df3-8994-f6a113110115",
    "_execution_state": "idle",
    "_uuid": "115d9e90a84c33213f0f0de7d86b6098f29ca7d8"
   },
   "source": [
    "**StackedRegressor:**"
   ]
  },
  {
   "cell_type": "code",
   "execution_count": 61,
   "metadata": {
    "_cell_guid": "e64b2750-1e32-4e91-affb-e583d6ca8722",
    "_execution_state": "busy",
    "_uuid": "8936479533c4bb147ab09f1d2133d8bacbf9afc1"
   },
   "outputs": [
    {
     "name": "stdout",
     "output_type": "stream",
     "text": [
      "0.07803882799654997\n"
     ]
    }
   ],
   "source": [
    "stacked_averaged_models.fit(train.values, y_train)\n",
    "stacked_train_pred = stacked_averaged_models.predict(train.values)\n",
    "stacked_pred = np.expm1(stacked_averaged_models.predict(test.values))\n",
    "print(rmsle(y_train, stacked_train_pred))"
   ]
  },
  {
   "cell_type": "markdown",
   "metadata": {
    "_cell_guid": "6c322757-44c0-4c81-a319-1aa6ccdf440f",
    "_execution_state": "idle",
    "_uuid": "06a0eafc07a8dae002f3fc1499849ebf7ec014be"
   },
   "source": [
    "**XGBoost:**"
   ]
  },
  {
   "cell_type": "code",
   "execution_count": 62,
   "metadata": {
    "_cell_guid": "2af45055-47aa-4e26-84df-ba5726bdff54",
    "_execution_state": "idle",
    "_uuid": "c80de2558910e4091f087a99bfcb202f01033ad7"
   },
   "outputs": [
    {
     "name": "stdout",
     "output_type": "stream",
     "text": [
      "0.07894559653917806\n"
     ]
    }
   ],
   "source": [
    "model_xgb.fit(train, y_train)\n",
    "xgb_train_pred = model_xgb.predict(train)\n",
    "xgb_pred = np.expm1(model_xgb.predict(test))\n",
    "print(rmsle(y_train, xgb_train_pred))"
   ]
  },
  {
   "cell_type": "markdown",
   "metadata": {
    "_cell_guid": "22b2b135-2af8-4dbb-a8f0-1fcd7f745a66",
    "_execution_state": "idle",
    "_uuid": "b6d1cdcc2bfc08d0eb58135878008e6d64987089"
   },
   "source": [
    "**LightGBM:**"
   ]
  },
  {
   "cell_type": "code",
   "execution_count": 63,
   "metadata": {
    "_cell_guid": "995d4c8e-db72-4370-a1ec-50e0c761f09a",
    "_execution_state": "idle",
    "_uuid": "65398376dca67e2aa78576108a0bb8160031c111"
   },
   "outputs": [
    {
     "name": "stdout",
     "output_type": "stream",
     "text": [
      "0.07279273314127263\n"
     ]
    }
   ],
   "source": [
    "model_lgb.fit(train, y_train)\n",
    "lgb_train_pred = model_lgb.predict(train)\n",
    "lgb_pred = np.expm1(model_lgb.predict(test.values))\n",
    "print(rmsle(y_train, lgb_train_pred))"
   ]
  },
  {
   "cell_type": "code",
   "execution_count": 64,
   "metadata": {
    "_cell_guid": "619452b2-c395-48fe-81ab-d6b1d355236b",
    "_execution_state": "idle",
    "_uuid": "07500cf506f6a90c6439c2dabf81ab966cf1c792"
   },
   "outputs": [
    {
     "name": "stdout",
     "output_type": "stream",
     "text": [
      "RMSLE score on train data:\n",
      "0.07537309062086694\n"
     ]
    }
   ],
   "source": [
    "'''RMSE on the entire Train data when averaging'''\n",
    "\n",
    "print('RMSLE score on train data:')\n",
    "print(rmsle(y_train,stacked_train_pred*0.70 +\n",
    "               xgb_train_pred*0.15 + lgb_train_pred*0.15 ))"
   ]
  },
  {
   "cell_type": "markdown",
   "metadata": {
    "_cell_guid": "844b5e21-7bd2-4a2b-9f7a-2e755ed06ecb",
    "_execution_state": "idle",
    "_uuid": "59443e95f66cb9e595cff9a3666824299239126b"
   },
   "source": [
    "**Ensemble prediction:**"
   ]
  },
  {
   "cell_type": "code",
   "execution_count": 65,
   "metadata": {
    "_cell_guid": "3ec2c58f-6bee-46a6-a263-1fe2cf3569cb",
    "_execution_state": "idle",
    "_uuid": "18996472b775bd9114fea7f08c8a554d4dafe774"
   },
   "outputs": [],
   "source": [
    "ensemble = stacked_pred*0.70 + xgb_pred*0.15 + lgb_pred*0.15"
   ]
  },
  {
   "cell_type": "markdown",
   "metadata": {
    "_cell_guid": "434ca649-2fa0-46a5-ab29-7f403448ddf7",
    "_execution_state": "idle",
    "_uuid": "c9f02561da543f4901dcd2051acbd6c197108dd5"
   },
   "source": [
    "**Submission**"
   ]
  },
  {
   "cell_type": "code",
   "execution_count": 66,
   "metadata": {
    "_cell_guid": "3db46af9-e18a-43bb-9699-45b851f835e5",
    "_execution_state": "idle",
    "_uuid": "93f6915cf25c7bb6b6fa6e74ad7b853387ac1db5"
   },
   "outputs": [],
   "source": [
    "sub = pd.DataFrame()\n",
    "sub['Id'] = test_ID\n",
    "sub['SalePrice'] = ensemble\n",
    "sub.to_csv('submission_stack.csv',index=False)"
   ]
  },
  {
   "cell_type": "markdown",
   "metadata": {
    "_cell_guid": "a35b0fbc-5235-4463-a86f-526a32b86956",
    "_execution_state": "idle",
    "_uuid": "8a08ae030e55075f00e4f5d9354610c9b88c4c24"
   },
   "source": [
    "**If you found this notebook helpful or you just liked it , some upvotes would be very much appreciated -  That will keep me motivated to update it on a regular basis** :-)"
   ]
  }
 ],
 "metadata": {
  "kernelspec": {
   "display_name": "Python 3",
   "language": "python",
   "name": "python3"
  },
  "language_info": {
   "codemirror_mode": {
    "name": "ipython",
    "version": 3
   },
   "file_extension": ".py",
   "mimetype": "text/x-python",
   "name": "python",
   "nbconvert_exporter": "python",
   "pygments_lexer": "ipython3",
   "version": "3.7.3"
  }
 },
 "nbformat": 4,
 "nbformat_minor": 1
}
