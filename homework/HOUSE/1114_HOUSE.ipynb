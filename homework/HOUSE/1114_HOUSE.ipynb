{
 "cells": [
  {
   "cell_type": "code",
   "execution_count": 1,
   "metadata": {},
   "outputs": [],
   "source": [
    "### STEP 1 --讀檔及載入套件--\n",
    "# 做完特徵工程前的所有準備 (與前範例相同)\n",
    "\n",
    "import pandas as pd\n",
    "import numpy as np\n",
    "import copy, time\n",
    "import warnings\n",
    "warnings.filterwarnings('ignore')\n",
    "from IPython.display import display\n",
    "from sklearn.preprocessing import MinMaxScaler\n",
    "from sklearn.preprocessing import StandardScaler\n",
    "from sklearn.model_selection import cross_val_score\n",
    "from sklearn.linear_model import LogisticRegression\n",
    "from sklearn.preprocessing import LabelEncoder\n",
    "from sklearn.linear_model import Lasso\n",
    "\n",
    "data_path = '/Users/maylin/Documents/Data/'\n",
    "df_train = pd.read_csv(data_path + 'house_train.csv')\n",
    "df_test = pd.read_csv(data_path + 'house_test.csv')\n"
   ]
  },
  {
   "cell_type": "code",
   "execution_count": 2,
   "metadata": {},
   "outputs": [
    {
     "data": {
      "text/plain": [
       "(1459, 80)"
      ]
     },
     "execution_count": 2,
     "metadata": {},
     "output_type": "execute_result"
    }
   ],
   "source": [
    "df_test.shape"
   ]
  },
  {
   "cell_type": "code",
   "execution_count": 3,
   "metadata": {},
   "outputs": [
    {
     "data": {
      "text/plain": [
       "(1460, 81)"
      ]
     },
     "execution_count": 3,
     "metadata": {},
     "output_type": "execute_result"
    }
   ],
   "source": [
    "df_train.shape"
   ]
  },
  {
   "cell_type": "code",
   "execution_count": 6,
   "metadata": {},
   "outputs": [
    {
     "data": {
      "text/plain": [
       "(2919, 79)"
      ]
     },
     "execution_count": 6,
     "metadata": {},
     "output_type": "execute_result"
    }
   ],
   "source": [
    "### STEP 2 --資料處理 產生初步的 TRAIN DATA 及 TEST DATA --\n",
    "## train 先排除Y，將Train + Test 再來處理\n",
    "train_Y = df_train['SalePrice']\n",
    "ids = df_test['Id']\n",
    "df_train = df_train.drop(['Id', 'SalePrice'] , axis=1) #去除name,poi 先去除index和Y\n",
    "df_test = df_test.drop(['Id'] , axis=1)\n",
    "test_X = df_test\n",
    "df = pd.concat([df_train,df_test]) \n",
    "df.shape"
   ]
  },
  {
   "cell_type": "code",
   "execution_count": 7,
   "metadata": {},
   "outputs": [
    {
     "data": {
      "text/html": [
       "<div>\n",
       "<style scoped>\n",
       "    .dataframe tbody tr th:only-of-type {\n",
       "        vertical-align: middle;\n",
       "    }\n",
       "\n",
       "    .dataframe tbody tr th {\n",
       "        vertical-align: top;\n",
       "    }\n",
       "\n",
       "    .dataframe thead th {\n",
       "        text-align: right;\n",
       "    }\n",
       "</style>\n",
       "<table border=\"1\" class=\"dataframe\">\n",
       "  <thead>\n",
       "    <tr style=\"text-align: right;\">\n",
       "      <th></th>\n",
       "      <th>Missing Ratio</th>\n",
       "    </tr>\n",
       "  </thead>\n",
       "  <tbody>\n",
       "    <tr>\n",
       "      <th>PoolQC</th>\n",
       "      <td>99.657417</td>\n",
       "    </tr>\n",
       "    <tr>\n",
       "      <th>MiscFeature</th>\n",
       "      <td>96.402878</td>\n",
       "    </tr>\n",
       "    <tr>\n",
       "      <th>Alley</th>\n",
       "      <td>93.216855</td>\n",
       "    </tr>\n",
       "    <tr>\n",
       "      <th>Fence</th>\n",
       "      <td>80.438506</td>\n",
       "    </tr>\n",
       "    <tr>\n",
       "      <th>FireplaceQu</th>\n",
       "      <td>48.646797</td>\n",
       "    </tr>\n",
       "    <tr>\n",
       "      <th>LotFrontage</th>\n",
       "      <td>16.649538</td>\n",
       "    </tr>\n",
       "    <tr>\n",
       "      <th>GarageFinish</th>\n",
       "      <td>5.447071</td>\n",
       "    </tr>\n",
       "    <tr>\n",
       "      <th>GarageYrBlt</th>\n",
       "      <td>5.447071</td>\n",
       "    </tr>\n",
       "    <tr>\n",
       "      <th>GarageQual</th>\n",
       "      <td>5.447071</td>\n",
       "    </tr>\n",
       "    <tr>\n",
       "      <th>GarageCond</th>\n",
       "      <td>5.447071</td>\n",
       "    </tr>\n",
       "    <tr>\n",
       "      <th>GarageType</th>\n",
       "      <td>5.378554</td>\n",
       "    </tr>\n",
       "    <tr>\n",
       "      <th>BsmtExposure</th>\n",
       "      <td>2.809181</td>\n",
       "    </tr>\n",
       "    <tr>\n",
       "      <th>BsmtCond</th>\n",
       "      <td>2.809181</td>\n",
       "    </tr>\n",
       "    <tr>\n",
       "      <th>BsmtQual</th>\n",
       "      <td>2.774923</td>\n",
       "    </tr>\n",
       "    <tr>\n",
       "      <th>BsmtFinType2</th>\n",
       "      <td>2.740665</td>\n",
       "    </tr>\n",
       "    <tr>\n",
       "      <th>BsmtFinType1</th>\n",
       "      <td>2.706406</td>\n",
       "    </tr>\n",
       "    <tr>\n",
       "      <th>MasVnrType</th>\n",
       "      <td>0.822199</td>\n",
       "    </tr>\n",
       "    <tr>\n",
       "      <th>MasVnrArea</th>\n",
       "      <td>0.787941</td>\n",
       "    </tr>\n",
       "    <tr>\n",
       "      <th>MSZoning</th>\n",
       "      <td>0.137033</td>\n",
       "    </tr>\n",
       "    <tr>\n",
       "      <th>BsmtFullBath</th>\n",
       "      <td>0.068517</td>\n",
       "    </tr>\n",
       "  </tbody>\n",
       "</table>\n",
       "</div>"
      ],
      "text/plain": [
       "              Missing Ratio\n",
       "PoolQC            99.657417\n",
       "MiscFeature       96.402878\n",
       "Alley             93.216855\n",
       "Fence             80.438506\n",
       "FireplaceQu       48.646797\n",
       "LotFrontage       16.649538\n",
       "GarageFinish       5.447071\n",
       "GarageYrBlt        5.447071\n",
       "GarageQual         5.447071\n",
       "GarageCond         5.447071\n",
       "GarageType         5.378554\n",
       "BsmtExposure       2.809181\n",
       "BsmtCond           2.809181\n",
       "BsmtQual           2.774923\n",
       "BsmtFinType2       2.740665\n",
       "BsmtFinType1       2.706406\n",
       "MasVnrType         0.822199\n",
       "MasVnrArea         0.787941\n",
       "MSZoning           0.137033\n",
       "BsmtFullBath       0.068517"
      ]
     },
     "metadata": {},
     "output_type": "display_data"
    }
   ],
   "source": [
    "# 檢查 DataFrame 空缺值的狀態\n",
    "def na_check(df_data):\n",
    "    data_na = (df_data.isnull().sum() / len(df_data)) * 100\n",
    "    data_na = data_na.drop(data_na[data_na == 0].index).sort_values(ascending=False)\n",
    "    missing_data = pd.DataFrame({'Missing Ratio' :data_na})\n",
    "    display(missing_data.head(20))\n",
    "na_check(df)"
   ]
  },
  {
   "cell_type": "code",
   "execution_count": 8,
   "metadata": {},
   "outputs": [
    {
     "data": {
      "text/plain": [
       "(2919, 75)"
      ]
     },
     "execution_count": 8,
     "metadata": {},
     "output_type": "execute_result"
    }
   ],
   "source": [
    "# == practice == 把遺缺值七成以上的特徵排除 直接看下面的空值比例高拿掉 這裡拿掉前4個\n",
    "df = df.drop(['PoolQC', 'MiscFeature','Alley','Fence'] , axis=1)\n",
    "df.shape"
   ]
  },
  {
   "cell_type": "code",
   "execution_count": 11,
   "metadata": {},
   "outputs": [
    {
     "data": {
      "text/plain": [
       "object     39\n",
       "int64      25\n",
       "float64    11\n",
       "dtype: int64"
      ]
     },
     "execution_count": 11,
     "metadata": {},
     "output_type": "execute_result"
    }
   ],
   "source": [
    "df.dtypes.value_counts()"
   ]
  },
  {
   "cell_type": "code",
   "execution_count": 38,
   "metadata": {},
   "outputs": [],
   "source": [
    "###here!!!!!!!!\n",
    "## 離群值處理 outlier \n",
    "# 將 1stFlrSF 限制在你覺得適合的範圍內, 調整離群值\n",
    "##\"\"\"\n",
    "##Your Code Here\n",
    "##\"\"\"\n",
    "\n",
    "##df['1stFlrSF'] = df['1stFlrSF'][:train_num].clip(600, 1750)\n",
    "##sns.regplot(x = df['1stFlrSF'][:train_num], y=train_Y)\n",
    "##plt.show()"
   ]
  },
  {
   "cell_type": "code",
   "execution_count": 39,
   "metadata": {},
   "outputs": [],
   "source": [
    "## 補空值的方法 (下面三種可換)\n",
    "df=df.fillna(0)\n",
    "#df = df.fillna(-1)\n",
    "#df = df.fillna(df.mean())"
   ]
  },
  {
   "cell_type": "code",
   "execution_count": 12,
   "metadata": {},
   "outputs": [
    {
     "name": "stdout",
     "output_type": "stream",
     "text": [
      "36 Numeric Features : ['MSSubClass', 'LotFrontage', 'LotArea', 'OverallQual', 'OverallCond', 'YearBuilt', 'YearRemodAdd', 'MasVnrArea', 'BsmtFinSF1', 'BsmtFinSF2', 'BsmtUnfSF', 'TotalBsmtSF', '1stFlrSF', '2ndFlrSF', 'LowQualFinSF', 'GrLivArea', 'BsmtFullBath', 'BsmtHalfBath', 'FullBath', 'HalfBath', 'BedroomAbvGr', 'KitchenAbvGr', 'TotRmsAbvGrd', 'Fireplaces', 'GarageYrBlt', 'GarageCars', 'GarageArea', 'WoodDeckSF', 'OpenPorchSF', 'EnclosedPorch', '3SsnPorch', 'ScreenPorch', 'PoolArea', 'MiscVal', 'MoSold', 'YrSold']\n",
      "\n"
     ]
    }
   ],
   "source": [
    "# 處理數值型資料\n",
    "#只取 int64, float64 兩種數值型欄位, 存於 num_features 中 \n",
    "num_features = []\n",
    "for dtype, feature in zip(df.dtypes, df.columns):\n",
    "    if dtype == 'float64' or dtype == 'int64':\n",
    "        num_features.append(feature)\n",
    "print(f'{len(num_features)} Numeric Features : {num_features}\\n')\n",
    "\n",
    "# 削減文字型欄位, 只剩數值型欄位\n",
    "# df = df[num_features]\n",
    "# train_num = train_Y.shape[0]\n",
    "# test_num = test_X.shape[0]\n"
   ]
  },
  {
   "cell_type": "code",
   "execution_count": 40,
   "metadata": {},
   "outputs": [
    {
     "data": {
      "text/html": [
       "<div>\n",
       "<style scoped>\n",
       "    .dataframe tbody tr th:only-of-type {\n",
       "        vertical-align: middle;\n",
       "    }\n",
       "\n",
       "    .dataframe tbody tr th {\n",
       "        vertical-align: top;\n",
       "    }\n",
       "\n",
       "    .dataframe thead th {\n",
       "        text-align: right;\n",
       "    }\n",
       "</style>\n",
       "<table border=\"1\" class=\"dataframe\">\n",
       "  <thead>\n",
       "    <tr style=\"text-align: right;\">\n",
       "      <th></th>\n",
       "      <th>bonus</th>\n",
       "      <th>deferred_income</th>\n",
       "      <th>exercised_stock_options</th>\n",
       "      <th>expenses</th>\n",
       "      <th>from_messages</th>\n",
       "      <th>from_poi_to_this_person</th>\n",
       "      <th>from_this_person_to_poi</th>\n",
       "      <th>long_term_incentive</th>\n",
       "      <th>other</th>\n",
       "      <th>restricted_stock</th>\n",
       "      <th>salary</th>\n",
       "      <th>shared_receipt_with_poi</th>\n",
       "      <th>to_messages</th>\n",
       "      <th>total_payments</th>\n",
       "      <th>total_stock_value</th>\n",
       "    </tr>\n",
       "  </thead>\n",
       "  <tbody>\n",
       "    <tr>\n",
       "      <th>0</th>\n",
       "      <td>1750000.0</td>\n",
       "      <td>-3504386.0</td>\n",
       "      <td>19794175.0</td>\n",
       "      <td>46950.0</td>\n",
       "      <td>18.0</td>\n",
       "      <td>42.0</td>\n",
       "      <td>4.0</td>\n",
       "      <td>1617011.0</td>\n",
       "      <td>174839.0</td>\n",
       "      <td>2748364.0</td>\n",
       "      <td>420636.0</td>\n",
       "      <td>864.0</td>\n",
       "      <td>905.0</td>\n",
       "      <td>505050.0</td>\n",
       "      <td>22542539.0</td>\n",
       "    </tr>\n",
       "    <tr>\n",
       "      <th>1</th>\n",
       "      <td>5600000.0</td>\n",
       "      <td>0.0</td>\n",
       "      <td>19250000.0</td>\n",
       "      <td>29336.0</td>\n",
       "      <td>108.0</td>\n",
       "      <td>88.0</td>\n",
       "      <td>30.0</td>\n",
       "      <td>1920000.0</td>\n",
       "      <td>22122.0</td>\n",
       "      <td>6843672.0</td>\n",
       "      <td>1111258.0</td>\n",
       "      <td>2042.0</td>\n",
       "      <td>3627.0</td>\n",
       "      <td>8682716.0</td>\n",
       "      <td>26093672.0</td>\n",
       "    </tr>\n",
       "    <tr>\n",
       "      <th>2</th>\n",
       "      <td>200000.0</td>\n",
       "      <td>-4167.0</td>\n",
       "      <td>1624396.0</td>\n",
       "      <td>22884.0</td>\n",
       "      <td>39.0</td>\n",
       "      <td>13.0</td>\n",
       "      <td>14.0</td>\n",
       "      <td>0.0</td>\n",
       "      <td>1573324.0</td>\n",
       "      <td>869220.0</td>\n",
       "      <td>211844.0</td>\n",
       "      <td>91.0</td>\n",
       "      <td>225.0</td>\n",
       "      <td>2003885.0</td>\n",
       "      <td>2493616.0</td>\n",
       "    </tr>\n",
       "    <tr>\n",
       "      <th>3</th>\n",
       "      <td>800000.0</td>\n",
       "      <td>0.0</td>\n",
       "      <td>0.0</td>\n",
       "      <td>118134.0</td>\n",
       "      <td>0.0</td>\n",
       "      <td>0.0</td>\n",
       "      <td>0.0</td>\n",
       "      <td>602671.0</td>\n",
       "      <td>907502.0</td>\n",
       "      <td>985032.0</td>\n",
       "      <td>224305.0</td>\n",
       "      <td>0.0</td>\n",
       "      <td>0.0</td>\n",
       "      <td>2652612.0</td>\n",
       "      <td>985032.0</td>\n",
       "    </tr>\n",
       "    <tr>\n",
       "      <th>4</th>\n",
       "      <td>1250000.0</td>\n",
       "      <td>-262500.0</td>\n",
       "      <td>0.0</td>\n",
       "      <td>35818.0</td>\n",
       "      <td>144.0</td>\n",
       "      <td>199.0</td>\n",
       "      <td>25.0</td>\n",
       "      <td>375304.0</td>\n",
       "      <td>486.0</td>\n",
       "      <td>126027.0</td>\n",
       "      <td>240189.0</td>\n",
       "      <td>2188.0</td>\n",
       "      <td>2598.0</td>\n",
       "      <td>1639297.0</td>\n",
       "      <td>126027.0</td>\n",
       "    </tr>\n",
       "  </tbody>\n",
       "</table>\n",
       "</div>"
      ],
      "text/plain": [
       "       bonus  deferred_income  exercised_stock_options  expenses  \\\n",
       "0  1750000.0       -3504386.0               19794175.0   46950.0   \n",
       "1  5600000.0              0.0               19250000.0   29336.0   \n",
       "2   200000.0          -4167.0                1624396.0   22884.0   \n",
       "3   800000.0              0.0                      0.0  118134.0   \n",
       "4  1250000.0        -262500.0                      0.0   35818.0   \n",
       "\n",
       "   from_messages  from_poi_to_this_person  from_this_person_to_poi  \\\n",
       "0           18.0                     42.0                      4.0   \n",
       "1          108.0                     88.0                     30.0   \n",
       "2           39.0                     13.0                     14.0   \n",
       "3            0.0                      0.0                      0.0   \n",
       "4          144.0                    199.0                     25.0   \n",
       "\n",
       "   long_term_incentive      other  restricted_stock     salary  \\\n",
       "0            1617011.0   174839.0         2748364.0   420636.0   \n",
       "1            1920000.0    22122.0         6843672.0  1111258.0   \n",
       "2                  0.0  1573324.0          869220.0   211844.0   \n",
       "3             602671.0   907502.0          985032.0   224305.0   \n",
       "4             375304.0      486.0          126027.0   240189.0   \n",
       "\n",
       "   shared_receipt_with_poi  to_messages  total_payments  total_stock_value  \n",
       "0                    864.0        905.0        505050.0         22542539.0  \n",
       "1                   2042.0       3627.0       8682716.0         26093672.0  \n",
       "2                     91.0        225.0       2003885.0          2493616.0  \n",
       "3                      0.0          0.0       2652612.0           985032.0  \n",
       "4                   2188.0       2598.0       1639297.0           126027.0  "
      ]
     },
     "execution_count": 40,
     "metadata": {},
     "output_type": "execute_result"
    }
   ],
   "source": [
    "## 最大最小化 或 標準化處理\n",
    "## https://www.itread01.com/content/1547461823.html\n",
    "## 如果資料真的有outlier，要做outlier完才做最大最小化 或 標準化處理，效果才會比較好\n",
    "\n",
    "MMEncoder = MinMaxScaler()\n",
    "\n",
    "## X_std = (X - X.min(axis=0)) / (X.max(axis=0) - X.min(axis=0))\n",
    "## X_scaled = X_std * (max - min) + min\n",
    "\n",
    "STDEncoder = StandardScaler()\n",
    "\n",
    "##\n",
    "##\n",
    "df.head()"
   ]
  },
  {
   "cell_type": "code",
   "execution_count": 41,
   "metadata": {},
   "outputs": [
    {
     "name": "stdout",
     "output_type": "stream",
     "text": [
      "deferred_income           -0.224654\n",
      "from_messages             -0.126760\n",
      "from_this_person_to_poi   -0.096864\n",
      "to_messages               -0.023047\n",
      "shared_receipt_with_poi    0.120467\n",
      "from_poi_to_this_person    0.127932\n",
      "expenses                   0.136386\n",
      "other                      0.225619\n",
      "long_term_incentive        0.227805\n",
      "bonus                      0.242170\n",
      "restricted_stock           0.261102\n",
      "total_payments             0.271335\n",
      "salary                     0.371917\n",
      "total_stock_value          0.443098\n",
      "exercised_stock_options    0.591972\n",
      "poi                        1.000000\n",
      "Name: poi, dtype: float64\n",
      "13\n",
      "['bonus', 'deferred_income', 'exercised_stock_options', 'expenses', 'from_messages', 'from_poi_to_this_person', 'long_term_incentive', 'other', 'restricted_stock', 'salary', 'shared_receipt_with_poi', 'total_payments', 'total_stock_value']\n",
      "<class 'list'>\n"
     ]
    }
   ],
   "source": [
    "## 特徵工程 (1) 相關係數 (2) Lasso (3)Ridge  那些特徵比較有相關？！！！！ 決定性的特徵！！！\n",
    "\n",
    "## PRACTICE 使用 CORR 相關係數，刪除特徵值 參考D40\n",
    "\n",
    "## 觀察相關係數,列出目標 (TARGET) 與所有欄位之間相關係數，數值最大以及最小各 15 個\n",
    "df_corr = df_train_corr.corr()\n",
    "#print(df_corr.to_xarray()) \n",
    "print(df_corr['poi'].sort_values())\n",
    "\n",
    "# max_corr = df_corr[1:12]\n",
    "# min_corr = df_corr[-10:]\n",
    "#print(max_corr)\n",
    "##print(min_corr)\n",
    "\n",
    "# 參考D30 篩選相關係數1\n",
    "\n",
    "corr_features = list(df_corr[(df_corr['poi']>0.1) | (df_corr['poi']<-0.1)].index)\n",
    "corr_features.remove('poi')\n",
    "\n",
    "# 把遺缺值七成以上的特徵排除\n",
    "##nan_features = ('loan_advances','director_fees','restricted_stock_deferred','deferral_payments')\n",
    "##for i in nan_features:\n",
    "##    corr_features.remove(i)\n",
    "\n",
    " \n",
    "print(len(corr_features))\n",
    "print(corr_features)\n",
    "corr_features.pop(0)\n",
    "print(type(corr_features))\n",
    "\n",
    "L1_list = corr_features\n",
    "\n",
    "###-not finish- df = df[corr_features]\n",
    "###-not finish- train_X = MMEncoder.fit_transform(df[corr_features])\n",
    "###-not finish- cross_val_score(estimator, train_X, train_Y, cv=5).mean()\n"
   ]
  },
  {
   "cell_type": "code",
   "execution_count": 42,
   "metadata": {},
   "outputs": [
    {
     "name": "stdout",
     "output_type": "stream",
     "text": [
      "15 <class 'list'> [True, True, True, False, False, False, False, False, False, False, False, False, False, True, True]\n",
      "4 <class 'list'> ['deferred_income', 'exercised_stock_options', 'total_payments', 'total_stock_value']\n"
     ]
    }
   ],
   "source": [
    "## PRACTICE 使用LASSO 檢查共線性，刪除特徵值 參考D40\n",
    "from sklearn.linear_model import Lasso\n",
    "# 切分訓練集/測試集\n",
    "##x_train, x_test, y_train, y_test = train_test_split(diabetes.data, diabetes.target, test_size=0.2, random_state=4)\n",
    "train_X=df[:train_num]\n",
    "test_X=df[:test_num]\n",
    "# 建立一個線性回歸模型\n",
    "lasso = Lasso(alpha=10000) #alpha 越大縮越快\n",
    "\n",
    "# 將訓練資料丟進去模型訓練\n",
    "lasso.fit(train_X, train_Y)\n",
    "\n",
    "# 將測試資料丟進模型得到預測結果\n",
    "y_pred = lasso.predict(test_X)\n",
    "\n",
    "# 檢查相關性\n",
    "lasso.coef_\n",
    "\n",
    "from itertools import compress\n",
    "L1_mask = list((lasso.coef_>0) | (lasso.coef_<0)) # 取不等於0的\n",
    "print(len(L1_mask),type(L1_mask),L1_mask)\n",
    "L1_list = list(compress(list(df), list(L1_mask)))  \n",
    "L1_list.pop(0)\n",
    "\n",
    "print(len(L1_list),type(L1_list),L1_list) #L1_List最後送Model\n",
    "#最後挑出9個特徵送Model"
   ]
  },
  {
   "cell_type": "code",
   "execution_count": 43,
   "metadata": {},
   "outputs": [
    {
     "name": "stdout",
     "output_type": "stream",
     "text": [
      "(146, 15)\n",
      "113\n",
      "(33, 4)\n",
      "(113, 4)\n",
      "(113,)\n"
     ]
    }
   ],
   "source": [
    "### PRACTICE 確認最後選完的特徵 ，確認 train_X test_X 是否適合  ###\n",
    "\n",
    "# 開始切分資料，特徵選完進模型\n",
    "train_X=df[:train_num]\n",
    "test_X=df[:test_num]\n",
    "train_X =  MMEncoder.fit_transform(train_X[L1_list])\n",
    "test_X =  MMEncoder.fit_transform(test_X[L1_list])\n",
    "\n",
    "print(df.shape)\n",
    "print(train_num)\n",
    "print(test_X.shape)\n",
    "print(train_X.shape)\n",
    "print(train_Y.shape)\n",
    "\n",
    "### 標準化完成 ###"
   ]
  },
  {
   "cell_type": "code",
   "execution_count": 44,
   "metadata": {
    "scrolled": true
   },
   "outputs": [
    {
     "name": "stdout",
     "output_type": "stream",
     "text": [
      "[[0.00000000e+00 5.76276747e-01 4.87689271e-03 4.59505908e-01]\n",
      " [1.00000000e+00 5.60433935e-01 8.38425392e-02 5.31750703e-01]\n",
      " [9.98810919e-01 4.72917736e-02 1.93500290e-02 5.16275414e-02]\n",
      " [1.00000000e+00 0.00000000e+00 2.56143038e-02 2.09366770e-02]\n",
      " [9.25093868e-01 0.00000000e+00 1.58294735e-02 3.46094739e-03]\n",
      " [1.00000000e+00 8.95706302e-01 8.79617440e-04 6.26806563e-01]\n",
      " [1.00000000e+00 2.41890623e-01 3.47914948e-03 2.42682376e-01]\n",
      " [9.58890944e-01 0.00000000e+00 1.43911450e-02 1.51021772e-02]\n",
      " [9.14392992e-01 1.00000000e+00 1.00000000e+00 1.00000000e+00]\n",
      " [1.00000000e+00 1.12007598e-02 1.22855016e-02 1.67358941e-02]\n",
      " [1.00000000e+00 1.95565823e-02 1.53285455e-02 3.99589284e-02]\n",
      " [9.71464331e-01 4.76074216e-02 1.06131923e-02 3.99351664e-02]\n",
      " [6.04479929e-01 0.00000000e+00 2.34075690e-02 3.74028279e-02]\n",
      " [1.00000000e+00 1.27084581e-02 2.07317236e-02 1.87512877e-02]\n",
      " [1.20800334e-01 5.03529074e-02 4.33029255e-02 3.60830823e-02]\n",
      " [1.00000000e+00 2.22809026e-02 1.94557650e-02 2.03125590e-02]\n",
      " [9.99702658e-01 2.42331633e-03 8.69628042e-03 7.37882447e-03]\n",
      " [1.00000000e+00 4.05055446e-03 0.00000000e+00 3.72751684e-03]\n",
      " [1.00000000e+00 0.00000000e+00 7.80183097e-03 5.12739804e-03]\n",
      " [1.00000000e+00 0.00000000e+00 2.57264709e-02 8.23167173e-03]\n",
      " [1.00000000e+00 1.29626943e-01 8.80122462e-03 9.89110161e-02]\n",
      " [1.00000000e+00 1.53328261e-01 2.41200752e-03 1.49563849e-01]\n",
      " [1.00000000e+00 2.40321058e-02 1.01838462e-02 2.15362802e-02]\n",
      " [1.00000000e+00 2.20476457e-02 0.00000000e+00 3.53064443e-02]\n",
      " [1.00000000e+00 1.89776031e-02 0.00000000e+00 2.20180298e-02]\n",
      " [1.00000000e+00 5.10581808e-02 0.00000000e+00 4.04737372e-02]\n",
      " [1.00000000e+00 2.35941231e-03 3.35182304e-02 1.20281959e-02]\n",
      " [9.95006258e-01 0.00000000e+00 0.00000000e+00 8.97034760e-04]\n",
      " [1.00000000e+00 0.00000000e+00 3.08943259e-03 8.97034760e-04]\n",
      " [1.00000000e+00 2.47467246e-02 1.04946231e-02 2.07536813e-02]\n",
      " [1.00000000e+00 2.87402167e-03 0.00000000e+00 2.90536891e-03]\n",
      " [8.61370009e-01 0.00000000e+00 5.97577479e-03 1.43088976e-02]\n",
      " [1.00000000e+00 4.22689172e-02 2.02130860e-02 3.42799597e-02]\n",
      " [1.00000000e+00 1.21082698e-01 1.00673791e-01 1.06018205e-01]\n",
      " [1.00000000e+00 5.05933554e-04 1.16710256e-02 4.13604778e-03]\n",
      " [9.89537111e-01 0.00000000e+00 2.20796115e-03 8.97034760e-04]\n",
      " [1.00000000e+00 4.51264025e-02 1.36198032e-02 3.88406510e-02]\n",
      " [1.00000000e+00 2.18614040e-01 1.07695271e-03 1.61418997e-01]\n",
      " [9.71107635e-01 0.00000000e+00 2.69815140e-04 8.97034760e-04]\n",
      " [1.00000000e+00 0.00000000e+00 0.00000000e+00 7.94960005e-03]\n",
      " [1.00000000e+00 4.65710701e-02 8.30569447e-03 3.34403768e-02]\n",
      " [9.92866083e-01 1.20203035e-02 8.44845258e-04 9.29668817e-03]\n",
      " [1.00000000e+00 6.02737526e-02 8.11803090e-02 4.30156578e-02]\n",
      " [1.00000000e+00 9.99854899e-03 1.75507303e-03 7.88390877e-03]\n",
      " [1.00000000e+00 0.00000000e+00 1.10724246e-02 8.97034760e-04]\n",
      " [8.85649298e-01 1.42374791e-01 2.04447106e-03 1.36770245e-01]\n",
      " [9.78598248e-01 0.00000000e+00 1.22787229e-02 9.39313980e-03]\n",
      " [1.00000000e+00 9.55782956e-02 4.51678578e-02 1.24571931e-01]\n",
      " [1.00000000e+00 1.75099358e-02 2.59977731e-02 2.14230853e-02]\n",
      " [7.94828538e-01 3.07531207e-02 3.09200116e-02 2.97216080e-02]\n",
      " [1.00000000e+00 9.56376871e-05 9.89766366e-04 0.00000000e+00]\n",
      " [1.00000000e+00 1.85233168e-02 1.51262276e-02 1.91285090e-02]\n",
      " [1.00000000e+00 4.72514224e-02 2.02913113e-02 6.39899308e-02]\n",
      " [8.35919902e-01 1.72133280e-02 3.85664154e-03 2.46598605e-02]\n",
      " [1.00000000e+00 0.00000000e+00 1.49194871e-02 1.51159705e-02]\n",
      " [1.00000000e+00 4.72917736e-02 2.20620371e-03 5.16275414e-02]\n",
      " [9.67530974e-01 0.00000000e+00 1.23503530e-05 8.97034760e-04]\n",
      " [9.90488205e-01 2.56282799e-02 1.67789926e-02 1.88057896e-02]\n",
      " [6.04479929e-01 1.94493691e-01 5.44066653e-02 2.17018226e-01]\n",
      " [8.01716478e-01 7.40300621e-02 2.27472645e-02 7.09718612e-02]\n",
      " [1.00000000e+00 3.85630369e-02 0.00000000e+00 3.92406374e-02]\n",
      " [1.00000000e+00 1.08361721e-02 0.00000000e+00 8.46923041e-03]\n",
      " [1.00000000e+00 2.21133256e-02 0.00000000e+00 1.63495790e-02]\n",
      " [1.00000000e+00 0.00000000e+00 9.35756988e-03 3.46094739e-03]\n",
      " [1.00000000e+00 1.73338577e-03 0.00000000e+00 5.39596121e-03]\n",
      " [1.00000000e+00 0.00000000e+00 3.49649212e-03 8.97034760e-04]\n",
      " [8.33544307e-01 4.85688060e-02 9.98838420e-03 4.27333013e-02]\n",
      " [9.20100126e-01 5.45877209e-03 1.25286172e-02 1.44896147e-02]\n",
      " [7.33338736e-01 1.77228134e-02 3.72641243e-02 1.72353024e-02]\n",
      " [1.00000000e+00 1.26542896e-01 1.73694824e-02 1.20907135e-01]\n",
      " [1.00000000e+00 2.85399162e-04 0.00000000e+00 2.63932841e-03]\n",
      " [1.00000000e+00 3.77615727e-02 1.86786681e-02 3.08991398e-01]\n",
      " [9.92866083e-01 1.25697325e-02 8.08711543e-04 9.68062303e-03]\n",
      " [9.92866083e-01 0.00000000e+00 8.20704615e-04 8.97034760e-04]\n",
      " [9.70394243e-01 0.00000000e+00 1.42912607e-06 8.97034760e-04]\n",
      " [1.00000000e+00 4.19786270e-02 2.93424882e-02 4.30508329e-02]\n",
      " [1.00000000e+00 5.13497229e-03 4.88519710e-04 4.48529587e-03]\n",
      " [1.00000000e+00 6.64592547e-02 2.99365604e-02 4.73380174e-02]\n",
      " [1.00000000e+00 4.47303926e-01 3.01601897e-02 4.85452659e-01]\n",
      " [1.00000000e+00 0.00000000e+00 1.15191424e-03 8.97034760e-04]\n",
      " [1.00000000e+00 4.76597094e-02 1.27612943e-02 5.39294214e-02]\n",
      " [1.00000000e+00 9.26171665e-02 1.05510350e-02 7.70868661e-02]\n",
      " [1.00000000e+00 2.19796658e-02 0.00000000e+00 2.36498140e-02]\n",
      " [9.64330413e-01 1.47536781e-02 1.27343148e-02 2.01804644e-02]\n",
      " [9.92866083e-01 1.08229255e-02 7.48282685e-04 8.45997382e-03]\n",
      " [9.96918148e-01 0.00000000e+00 7.35937160e-03 8.72810977e-03]\n",
      " [1.00000000e+00 6.30356293e-02 1.91154882e-02 1.19299601e-01]\n",
      " [1.00000000e+00 5.88687957e-02 1.68745219e-02 1.26087672e-01]\n",
      " [1.00000000e+00 3.96634380e-02 9.65003860e-03 2.86134009e-02]\n",
      " [1.00000000e+00 1.93447529e-02 1.36622231e-02 3.38797088e-02]\n",
      " [1.00000000e+00 2.38490259e-01 2.28674752e-02 1.70115269e-01]\n",
      " [1.00000000e+00 0.00000000e+00 1.09160222e-02 8.97034760e-04]\n",
      " [1.00000000e+00 7.50594264e-03 1.76193863e-03 6.14210338e-03]\n",
      " [1.00000000e+00 0.00000000e+00 7.68734638e-05 3.97750579e-03]\n",
      " [1.00000000e+00 0.00000000e+00 0.00000000e+00 4.75261804e-03]\n",
      " [9.98543539e-01 1.17797594e-01 8.84703391e-03 1.07571339e-01]\n",
      " [9.88229036e-01 3.42231530e-03 1.06353341e-02 1.09802686e-02]\n",
      " [1.00000000e+00 8.18300506e-03 1.52231957e-02 1.09498134e-02]\n",
      " [9.65390799e-01 0.00000000e+00 3.62109646e-05 8.97034760e-04]\n",
      " [1.00000000e+00 0.00000000e+00 7.47781526e-03 8.39802588e-03]\n",
      " [1.00000000e+00 0.00000000e+00 2.05746838e-03 8.97034760e-04]\n",
      " [1.00000000e+00 1.93422491e-02 0.00000000e+00 1.63368435e-02]\n",
      " [1.00000000e+00 1.16592967e-02 7.84275419e-03 1.30518731e-02]\n",
      " [1.00000000e+00 1.43671679e-02 1.78469553e-02 2.03434618e-02]\n",
      " [1.00000000e+00 5.61185062e-03 5.32030805e-04 4.81853310e-03]\n",
      " [1.00000000e+00 1.49269177e-01 0.00000000e+00 1.24546460e-01]\n",
      " [1.00000000e+00 5.38782261e-03 5.32227792e-03 1.56614990e-02]\n",
      " [1.00000000e+00 0.00000000e+00 0.00000000e+00 8.97034760e-04]\n",
      " [1.00000000e+00 0.00000000e+00 1.07385981e-02 1.13078298e-02]\n",
      " [1.00000000e+00 0.00000000e+00 4.75937606e-04 8.97034760e-04]\n",
      " [1.00000000e+00 8.38409166e-04 1.33902353e-02 1.48290569e-03]\n",
      " [1.00000000e+00 0.00000000e+00 4.58672218e-06 4.60061060e-02]\n",
      " [1.00000000e+00 1.76962328e-02 1.02119555e-02 2.09767346e-02]]\n"
     ]
    }
   ],
   "source": [
    "print(train_X)\n"
   ]
  },
  {
   "cell_type": "code",
   "execution_count": 45,
   "metadata": {},
   "outputs": [
    {
     "name": "stdout",
     "output_type": "stream",
     "text": [
      "Fitting 3 folds for each of 12 candidates, totalling 36 fits\n"
     ]
    },
    {
     "name": "stderr",
     "output_type": "stream",
     "text": [
      "[Parallel(n_jobs=-1)]: Using backend LokyBackend with 4 concurrent workers.\n"
     ]
    },
    {
     "name": "stdout",
     "output_type": "stream",
     "text": [
      "Best Accuracy: -0.155146 using {'max_depth': 1, 'n_estimators': 50}\n"
     ]
    },
    {
     "name": "stderr",
     "output_type": "stream",
     "text": [
      "[Parallel(n_jobs=-1)]: Done  29 out of  36 | elapsed:    2.1s remaining:    0.5s\n",
      "[Parallel(n_jobs=-1)]: Done  36 out of  36 | elapsed:    2.3s finished\n"
     ]
    }
   ],
   "source": [
    "#### PRACTICE 參數最佳化 ####\n",
    "## 模型參數最佳化  D47\n",
    "from sklearn import datasets, metrics\n",
    "from sklearn.model_selection import train_test_split, KFold, GridSearchCV\n",
    "from sklearn.ensemble import GradientBoostingRegressor\n",
    "\n",
    "# 設定要訓練的超參數組合\n",
    "n_estimators = [50, 100, 200, 300]\n",
    "max_depth = [1, 3, 5]\n",
    "param_grid = dict(n_estimators=n_estimators, max_depth=max_depth)\n",
    "\n",
    "clf = GradientBoostingRegressor(random_state=7)\n",
    "\n",
    "## 建立搜尋物件，放入模型及參數組合字典 (n_jobs=-1 會使用全部 cpu 平行運算)\n",
    "grid_search = GridSearchCV(clf, param_grid, scoring=\"neg_mean_squared_error\", n_jobs=-1, verbose=1)\n",
    "\n",
    "# 開始搜尋最佳參數\n",
    "grid_result = grid_search.fit(train_X, train_Y)\n",
    "\n",
    "# 預設會跑 3-fold cross-validadtion，總共 9 種參數組合，總共要 train 27 次模型\n",
    "\n",
    "# 印出最佳結果與最佳參數\n",
    "print(\"Best Accuracy: %f using %s\" % (grid_result.best_score_, grid_result.best_params_))\n",
    "\n",
    "grid_result.best_params_\n",
    "\n",
    "# 使用最佳參數重新建立模型\n",
    "clf_bestparam = GradientBoostingRegressor(max_depth=grid_result.best_params_['max_depth'],\n",
    "                                           n_estimators=grid_result.best_params_['n_estimators'])"
   ]
  },
  {
   "cell_type": "code",
   "execution_count": 46,
   "metadata": {},
   "outputs": [],
   "source": [
    "### PRACTICE 確認最後選完的特徵 ，確認 train_X test_X 是否適合  ###\n",
    "\n",
    "# 使用三種模型 : 邏輯斯迴歸 / 梯度提升機 / 隨機森林, 參數使用 Random Search 尋找\n",
    "from sklearn.linear_model import LogisticRegression\n",
    "from sklearn.ensemble import GradientBoostingClassifier, RandomForestClassifier\n",
    "lr = LogisticRegression()\n",
    "gdbt = GradientBoostingClassifier()\n",
    "rf = RandomForestClassifier()"
   ]
  },
  {
   "cell_type": "code",
   "execution_count": 47,
   "metadata": {},
   "outputs": [
    {
     "name": "stdout",
     "output_type": "stream",
     "text": [
      "[[-1.3153751   1.30164915  0.38013788  1.11029179]]\n",
      "[-0.93439372]\n",
      "[0.58108211 0.28936356 0.10688942 0.09816675 0.10504614 0.40420537\n",
      " 0.15910583 0.10206953 0.65811726 0.09859646 0.10201101 0.10882028\n",
      " 0.15708951 0.09925725 0.27444486 0.10048974 0.09658885 0.09609813\n",
      " 0.09603292 0.09692761 0.12252079 0.13192316 0.10050012 0.10130283\n",
      " 0.09960734 0.10533271 0.09782872 0.09593762 0.09547078 0.10051627\n",
      " 0.09588595 0.1140279  0.10433424]\n"
     ]
    }
   ],
   "source": [
    "# 邏輯斯迴歸預測檔 (結果有部分隨機, 請以 Kaggle 計算的得分為準, 以下模型同理)\n",
    "lr.fit(train_X, train_Y)\n",
    "prediction = lr.predict_proba(test_X)[:,1]\n",
    "print(lr.coef_)\n",
    "print(lr.intercept_)\n",
    "print(prediction)"
   ]
  },
  {
   "cell_type": "code",
   "execution_count": 48,
   "metadata": {},
   "outputs": [],
   "source": [
    "# 邏輯斯迴歸預測檔 (結果有部分隨機, 請以 Kaggle 計算的得分為準, 以下模型同理)\n",
    "lr.fit(train_X, train_Y)\n",
    "lr_pred = lr.predict_proba(test_X)[:,1]\n",
    "sub = pd.DataFrame({'name': ids, 'poi': lr_pred})\n",
    "#sub['poi'] = sub['poi'].map(lambda x:1 if x>0.5 else 0) \n",
    "# 上面，變成機率方式\n",
    "\n",
    "sub.to_csv('marathon_lr_TEST.csv', index=False) "
   ]
  },
  {
   "cell_type": "code",
   "execution_count": 49,
   "metadata": {},
   "outputs": [],
   "source": [
    "#### ** not finish **  檢查AUC (需要有正確的test_Y)\n",
    "####\n",
    "#### acc = metrics.accuracy_score(y_test, y_pred)\n",
    "#### print(\"Accuracy: \", acc)\n",
    "#### print(\"Feature importance: \", clf_bestparam.feature_importances_)"
   ]
  },
  {
   "cell_type": "code",
   "execution_count": 50,
   "metadata": {},
   "outputs": [],
   "source": [
    "# 梯度提升機預測檔 \n",
    "gdbt.fit(train_X, train_Y)\n",
    "gdbt_pred = gdbt.predict_proba(test_X)[:,1]\n",
    "sub = pd.DataFrame({'name': ids, 'poi': gdbt_pred})\n",
    "#sub['poi'] = sub['poi'].map(lambda x:1 if x>0.5 else 0) \n",
    "sub.to_csv('marathon_gdbt_TEST.csv', index=False)"
   ]
  },
  {
   "cell_type": "code",
   "execution_count": 51,
   "metadata": {},
   "outputs": [],
   "source": [
    "# 隨機森林預測檔\n",
    "rf.fit(train_X, train_Y)\n",
    "rf_pred = rf.predict_proba(test_X)[:,1]\n",
    "sub = pd.DataFrame({'name': ids, 'poi': rf_pred})\n",
    "#sub['poi'] = sub['poi'].map(lambda x:1 if x>0.5 else 0) \n",
    "sub.to_csv('marathon_rf_TEST.csv', index=False)"
   ]
  },
  {
   "cell_type": "code",
   "execution_count": 52,
   "metadata": {},
   "outputs": [],
   "source": [
    "### ==== PRACTICE ENSEMBLE ==== Stacking & blending ### "
   ]
  },
  {
   "cell_type": "code",
   "execution_count": 53,
   "metadata": {},
   "outputs": [],
   "source": [
    "from mlxtend.classifier import StackingClassifier\n",
    "\n",
    "meta_estimator = GradientBoostingClassifier(tol=100, subsample=0.70, n_estimators=50, \n",
    "                                           max_features='sqrt', max_depth=4, learning_rate=0.3)\n",
    "stacking = StackingClassifier(classifiers=[lr,gdbt,rf],meta_classifier=meta_estimator)\n",
    "stacking.fit(train_X, train_Y)\n",
    "#stacking_pred = stacking.predict(test_X)\n",
    "stacking_pred = stacking.predict_proba(test_X)[:,1]\n",
    "sub = pd.DataFrame({'name': ids, 'poi': stacking_pred})\n",
    "sub.to_csv('marathon_stacking_TEST.csv', index=False)"
   ]
  },
  {
   "cell_type": "code",
   "execution_count": 54,
   "metadata": {},
   "outputs": [],
   "source": [
    "blending_pred = lr_pred*0.25  + gdbt_pred*0.3 + rf_pred*0.45  #這兒可以調整參數  #看三種成績來取權重\n",
    "sub = pd.DataFrame({'name': ids, 'poi': blending_pred}) # name當key，才可以送測\n",
    "sub.to_csv('marathon_blending_TEST.csv', index=False)"
   ]
  }
 ],
 "metadata": {
  "kernelspec": {
   "display_name": "Python 3",
   "language": "python",
   "name": "python3"
  },
  "language_info": {
   "codemirror_mode": {
    "name": "ipython",
    "version": 3
   },
   "file_extension": ".py",
   "mimetype": "text/x-python",
   "name": "python",
   "nbconvert_exporter": "python",
   "pygments_lexer": "ipython3",
   "version": "3.7.3"
  }
 },
 "nbformat": 4,
 "nbformat_minor": 2
}
