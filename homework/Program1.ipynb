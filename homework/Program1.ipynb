{
 "cells": [
  {
   "cell_type": "markdown",
   "metadata": {},
   "source": [
    "### Input : Min(data)\n",
    "### Output : Minimum of data(0)"
   ]
  },
  {
   "cell_type": "code",
   "execution_count": 62,
   "metadata": {},
   "outputs": [],
   "source": [
    "def min_num(data):\n",
    "    min_no = data[0]\n",
    "    for v in data:\n",
    "        if min_no > v:\n",
    "            min_no = v\n",
    "    return min_no"
   ]
  },
  {
   "cell_type": "code",
   "execution_count": 63,
   "metadata": {},
   "outputs": [
    {
     "name": "stdout",
     "output_type": "stream",
     "text": [
      "Minimum:  0\n"
     ]
    }
   ],
   "source": [
    "data = [4,9,3,10,0,2]\n",
    "min_no= min_num(data)\n",
    "\n",
    "print(\"Minimum: \", min_no)"
   ]
  },
  {
   "cell_type": "markdown",
   "metadata": {},
   "source": [
    "### Input : Max(data)\n",
    "### Output : Maximum of data(0)"
   ]
  },
  {
   "cell_type": "code",
   "execution_count": 64,
   "metadata": {},
   "outputs": [],
   "source": [
    "def max_num(data):\n",
    "    max_no = data[0]\n",
    "    for v in data:\n",
    "        if max_no < v:\n",
    "            max_no = v\n",
    "    return max_no"
   ]
  },
  {
   "cell_type": "code",
   "execution_count": 65,
   "metadata": {},
   "outputs": [
    {
     "name": "stdout",
     "output_type": "stream",
     "text": [
      "Maximum:  10\n"
     ]
    }
   ],
   "source": [
    "data = [4,9,3,10,0,2]\n",
    "max_no= max_num(data)\n",
    "\n",
    "print(\"Maximum: \", max_no)"
   ]
  },
  {
   "cell_type": "markdown",
   "metadata": {},
   "source": [
    "### Input : MinMaxScaler(data)\n",
    "### Output : Scaled Data[0.1, 0.9, 0.3, 1, 0, 0.2]"
   ]
  },
  {
   "cell_type": "code",
   "execution_count": 66,
   "metadata": {},
   "outputs": [],
   "source": [
    "def min_max_scaler(data):\n",
    "    min_no = min_num(data) \n",
    "    max_no = max_num(data)\n",
    "    result = 0\n",
    "    scale = []\n",
    "    for v in data:\n",
    "        result = (v-min_no)/(max_no-min_no)\n",
    "        scale.append(result)\n",
    "    return scale"
   ]
  },
  {
   "cell_type": "code",
   "execution_count": 67,
   "metadata": {},
   "outputs": [
    {
     "name": "stdout",
     "output_type": "stream",
     "text": [
      "[0.4, 0.9, 0.3, 1.0, 0.0, 0.2]\n"
     ]
    }
   ],
   "source": [
    "data = [4,9,3,10,0,2]\n",
    "scale = min_max_scaler(data)\n",
    "print(scale)"
   ]
  }
 ],
 "metadata": {
  "kernelspec": {
   "display_name": "Python 3",
   "language": "python",
   "name": "python3"
  },
  "language_info": {
   "codemirror_mode": {
    "name": "ipython",
    "version": 3
   },
   "file_extension": ".py",
   "mimetype": "text/x-python",
   "name": "python",
   "nbconvert_exporter": "python",
   "pygments_lexer": "ipython3",
   "version": "3.7.3"
  }
 },
 "nbformat": 4,
 "nbformat_minor": 2
}
