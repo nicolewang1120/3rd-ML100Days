{
 "cells": [
  {
   "cell_type": "markdown",
   "metadata": {},
   "source": [
    "### Input : PassFail([20, 80, 59, 60])(grades-list)\n",
    "### Output : status-list([Fail, Pass, Fail, Pass])"
   ]
  },
  {
   "cell_type": "code",
   "execution_count": 38,
   "metadata": {},
   "outputs": [],
   "source": [
    "def PassFail(grades):\n",
    "    if(grades == ''):\n",
    "        return False\n",
    "\n",
    "    start=0\n",
    "    end=len(grades)-1\n",
    "\n",
    "    status=''\n",
    "    #status=0\n",
    "\n",
    "    while(start <= end):\n",
    "    ##while(start < end){\n",
    "        if(grades[start] >= 60):\n",
    "        ##if(grades[start] > 60:\n",
    "            #status.append('Pass')\n",
    "            status += 'Pass,'\n",
    "        else:\n",
    "            #status.append('Fail')\n",
    "            status += 'Fail,'\n",
    "        start=start+1\n",
    "           \n",
    "    return status \n",
    "##return false \n"
   ]
  },
  {
   "cell_type": "code",
   "execution_count": 39,
   "metadata": {},
   "outputs": [
    {
     "name": "stdout",
     "output_type": "stream",
     "text": [
      "Fail,Pass,Fail,Pass,\n"
     ]
    }
   ],
   "source": [
    "data = [20,80,59,60]\n",
    "result = PassFail(data)\n",
    "print(result)"
   ]
  },
  {
   "cell_type": "code",
   "execution_count": null,
   "metadata": {},
   "outputs": [],
   "source": []
  }
 ],
 "metadata": {
  "kernelspec": {
   "display_name": "Python 3",
   "language": "python",
   "name": "python3"
  },
  "language_info": {
   "codemirror_mode": {
    "name": "ipython",
    "version": 3
   },
   "file_extension": ".py",
   "mimetype": "text/x-python",
   "name": "python",
   "nbconvert_exporter": "python",
   "pygments_lexer": "ipython3",
   "version": "3.7.3"
  }
 },
 "nbformat": 4,
 "nbformat_minor": 2
}
