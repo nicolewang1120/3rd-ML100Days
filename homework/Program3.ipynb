{
 "cells": [
  {
   "cell_type": "markdown",
   "metadata": {},
   "source": [
    "### Input : row_sum_check(data)\n",
    "### Output: Either True or False"
   ]
  },
  {
   "cell_type": "code",
   "execution_count": 1,
   "metadata": {},
   "outputs": [],
   "source": [
    "def row_sum_check(mat) : \n",
    "  \n",
    "    n = 3\n",
    "    sum = 0\n",
    "    sum2 = 0\n",
    "  \n",
    "    for i in range(n) : \n",
    "        for j in range(n) : \n",
    "            sum += mat[i][j] \n",
    "                     \n",
    "        if i == 0:\n",
    "            sum2 = sum\n",
    "\n",
    "        if i >= 1:\n",
    "            if sum != sum2:\n",
    "                return False  \n",
    "    \n",
    "        sum = 0\n",
    "\n",
    "    return True  "
   ]
  },
  {
   "cell_type": "code",
   "execution_count": 2,
   "metadata": {},
   "outputs": [
    {
     "name": "stdout",
     "output_type": "stream",
     "text": [
      "True\n"
     ]
    }
   ],
   "source": [
    "# main()\n",
    "mat = [ [ 2, 7, 6 ], \n",
    "        [ 9, 5, 1 ], \n",
    "        [ 4, 3, 8 ] ] \n",
    "\n",
    "print(row_sum_check(mat))"
   ]
  },
  {
   "cell_type": "markdown",
   "metadata": {},
   "source": [
    "### Input : column_sum_check(data)\n",
    "### Output: Either True or False"
   ]
  },
  {
   "cell_type": "code",
   "execution_count": 3,
   "metadata": {},
   "outputs": [],
   "source": [
    "def column_sum_check(mat) : \n",
    "  \n",
    "    n = 3\n",
    "    sum = 0\n",
    "    sum2 = 0\n",
    "  \n",
    "    for i in range(n) : \n",
    "        for j in range(n) : \n",
    "            sum += mat[j][i] \n",
    "        \n",
    "        if i == 0:\n",
    "            sum2 = sum\n",
    "\n",
    "        if i >= 1:\n",
    "            if sum != sum2:\n",
    "                return False  \n",
    "  \n",
    "        sum = 0\n",
    "    return True     "
   ]
  },
  {
   "cell_type": "code",
   "execution_count": 4,
   "metadata": {},
   "outputs": [
    {
     "name": "stdout",
     "output_type": "stream",
     "text": [
      "True\n"
     ]
    }
   ],
   "source": [
    "# main()\n",
    "mat = [ [ 2, 7, 6 ], \n",
    "        [ 9, 5, 1 ], \n",
    "        [ 4, 3, 8 ] ] \n",
    "\n",
    "print(column_sum_check(mat))"
   ]
  },
  {
   "cell_type": "markdown",
   "metadata": {},
   "source": [
    "### Input : diagonal_sum_check(data)\n",
    "### Output: Either True or False"
   ]
  },
  {
   "cell_type": "code",
   "execution_count": 5,
   "metadata": {},
   "outputs": [],
   "source": [
    "def diagonal_sum_check(mat): \n",
    "  \n",
    "    n = 3\n",
    "    # Initialize sums of diagonals \n",
    "    d1 = 0\n",
    "    d2 = 0\n",
    "  \n",
    "    for i in range(0, n): \n",
    "      \n",
    "        for j in range(0, n): \n",
    "          \n",
    "            # finding sum of primary diagonal \n",
    "            if (i == j): \n",
    "                d1 += mat[i][j] \n",
    "  \n",
    "            # finding sum of secondary diagonal \n",
    "            if (i == n - j - 1): \n",
    "                d2 += mat[i][j] \n",
    "          \n",
    "    # Absolute difference of the sums across the diagonals \n",
    "    if abs(d1 - d2) == 0: \n",
    "        return True\n",
    "    else:\n",
    "        return False\n"
   ]
  },
  {
   "cell_type": "code",
   "execution_count": 6,
   "metadata": {},
   "outputs": [
    {
     "name": "stdout",
     "output_type": "stream",
     "text": [
      "False\n"
     ]
    }
   ],
   "source": [
    "# main()\n",
    "mat = [[11, 2, 4], \n",
    "       [4 , 5, 6], \n",
    "       [10, 8, -12]] \n",
    "  \n",
    "print(diagonal_sum_check(mat))"
   ]
  },
  {
   "cell_type": "code",
   "execution_count": 7,
   "metadata": {},
   "outputs": [
    {
     "name": "stdout",
     "output_type": "stream",
     "text": [
      "True\n"
     ]
    }
   ],
   "source": [
    "# main()\n",
    "mat = [ [ 2, 7, 6 ], \n",
    "        [ 9, 5, 1 ], \n",
    "        [ 4, 3, 8 ] ] \n",
    "\n",
    "print(diagonal_sum_check(mat))"
   ]
  },
  {
   "cell_type": "markdown",
   "metadata": {},
   "source": [
    "### Input : Magic Square(data)\n",
    "### Output: Either True or False"
   ]
  },
  {
   "cell_type": "code",
   "execution_count": 8,
   "metadata": {},
   "outputs": [],
   "source": [
    "def isMagicSquare(mat) : \n",
    "    # 3 dimension matrix\n",
    "    N = 3  \n",
    "    \n",
    "    #calculate the sum of the prime diagonal \n",
    "    s = 0 \n",
    "      \n",
    "    for i in range(0, N) : \n",
    "        s = s + mat[i][i] \n",
    "  \n",
    "    # the secondary diagonal \n",
    "    s2 = 0\n",
    "    for i in range(0, N) : \n",
    "        s2 = s2 + mat[i][N-i-1] \n",
    "  \n",
    "    if(s!=s2) : \n",
    "        return False\n",
    "  \n",
    "    # For sums of Rows  \n",
    "    for i in range(0, N) : \n",
    "        rowSum = 0;      \n",
    "        for j in range(0, N) : \n",
    "            rowSum += mat[i][j] \n",
    "          \n",
    "        # check if every row sum is \n",
    "        # equal to prime diagonal sum \n",
    "        if (rowSum != s) : \n",
    "            return False\n",
    "  \n",
    "    # For sums of Columns \n",
    "    for i in range(0, N): \n",
    "        colSum = 0\n",
    "        for j in range(0, N) : \n",
    "            colSum += mat[j][i] \n",
    "  \n",
    "        # check if every column sum is  \n",
    "        # equal to prime diagonal sum \n",
    "        if (s != colSum) : \n",
    "            return False\n",
    "  \n",
    "    return True "
   ]
  },
  {
   "cell_type": "code",
   "execution_count": 9,
   "metadata": {},
   "outputs": [
    {
     "name": "stdout",
     "output_type": "stream",
     "text": [
      "True - Magic Square\n"
     ]
    }
   ],
   "source": [
    "# main()\n",
    "mat = [ [ 2, 7, 6 ], \n",
    "        [ 9, 5, 1 ], \n",
    "        [ 4, 3, 8 ] ] \n",
    "      \n",
    "if (isMagicSquare(mat)) : \n",
    "    print( \"True - Magic Square\") \n",
    "else : \n",
    "    print( \"Fasle - Not a magic Square\")  "
   ]
  }
 ],
 "metadata": {
  "kernelspec": {
   "display_name": "Python 3",
   "language": "python",
   "name": "python3"
  },
  "language_info": {
   "codemirror_mode": {
    "name": "ipython",
    "version": 3
   },
   "file_extension": ".py",
   "mimetype": "text/x-python",
   "name": "python",
   "nbconvert_exporter": "python",
   "pygments_lexer": "ipython3",
   "version": "3.7.3"
  }
 },
 "nbformat": 4,
 "nbformat_minor": 2
}
