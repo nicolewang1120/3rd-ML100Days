{
 "cells": [
  {
   "cell_type": "markdown",
   "metadata": {},
   "source": [
    "## [作業目標]\n",
    "了解機器學習適合應用的領域與範疇。"
   ]
  },
  {
   "cell_type": "markdown",
   "metadata": {},
   "source": [
    "## [作業重點]\n",
    "透過瞭解機器學習的運作方式，找出非常適用機器學習應用的領域及其原因"
   ]
  },
  {
   "cell_type": "markdown",
   "metadata": {},
   "source": [
    "## 作業\n",
    "請找出一個你認為機器學習可以發光發熱的領域並闡述原因? "
   ]
  },
  {
   "cell_type": "code",
   "execution_count": null,
   "metadata": {},
   "outputs": [],
   "source": [
    "監督式：\n",
    "第一種會假設有位可提供準確的誤差回饋的教導者。因此這種演算法會拿它的輸出與正確的結果做比較，並據此修正參數。\n",
    "學習的樣本，是根據已知特徵來將物件自動分為特定種類來提供的\n",
    "\n",
    "●以迴歸或分類為基礎的預測分析\n",
    "●垃圾郵件偵測\n",
    "●模式檢測\n",
    "●自然語言處理\n",
    "●情緒分析\n",
    "●自動影像分類\n",
    "●自動序列處理（例如音樂或語音）\n",
    "\n",
    "非監督式：\n",
    "沒有外部的教導者，所以每件事都是從資料直接學習來的。演算法會試著找出元素群組的所有共同特徵，來將新的樣本歸類為正確的群聚。\n",
    "以後續的標示或處理，來自動劃分項目群組。\n",
    "\n",
    "●物件分割（例如使用者、產品、電影、歌曲⋯等等）\n",
    "●相似性檢測\n",
    "●自動標籤\n",
    "\n",
    "強化學習：\n",
    "類似監督式，但它只接收關於其行動品質的環境回饋。\n",
    "它並不知道哪裡出錯或誤差的大小，只是接收通用的資訊，來協助決定該繼續採取某個策略或選擇另一種策略。\n",
    "\n",
    "●影像分類\n",
    "●即時視覺追蹤\n",
    "●自動汽車駕駛\n",
    "●Logistic最佳化\n",
    "●生物資訊學\n",
    "●語音辨識\n",
    "\n",
    "銀行領域，配合大數據的前提，可以運用的範圍很廣，現行的AI理專、LINE機器人、客戶產品精準推薦...等。\n"
   ]
  }
 ],
 "metadata": {
  "kernelspec": {
   "display_name": "Python 3",
   "language": "python",
   "name": "python3"
  },
  "language_info": {
   "codemirror_mode": {
    "name": "ipython",
    "version": 3
   },
   "file_extension": ".py",
   "mimetype": "text/x-python",
   "name": "python",
   "nbconvert_exporter": "python",
   "pygments_lexer": "ipython3",
   "version": "3.7.3"
  }
 },
 "nbformat": 4,
 "nbformat_minor": 2
}
