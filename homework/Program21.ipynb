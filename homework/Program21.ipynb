{
 "cells": [
  {
   "cell_type": "markdown",
   "metadata": {},
   "source": [
    "### Input : Fun(6)\n",
    "\n",
    "### Output : 1,2,3,4,5,6 "
   ]
  },
  {
   "cell_type": "code",
   "execution_count": 7,
   "metadata": {},
   "outputs": [],
   "source": [
    "def fun(num):\n",
    "    num_list = []\n",
    "    for i in range(1, num+1):\n",
    "        if i % 5 != 0:\n",
    "            num_list += [i] \n",
    "    return num_list"
   ]
  },
  {
   "cell_type": "code",
   "execution_count": 5,
   "metadata": {
    "scrolled": true
   },
   "outputs": [
    {
     "data": {
      "text/plain": [
       "[1, 2, 3, 4, 6, 7, 8, 9, 11, 12, 13]"
      ]
     },
     "execution_count": 5,
     "metadata": {},
     "output_type": "execute_result"
    }
   ],
   "source": [
    "fun(13)"
   ]
  },
  {
   "cell_type": "code",
   "execution_count": 12,
   "metadata": {},
   "outputs": [],
   "source": [
    "def Sqrt(x): \n",
    "  \n",
    "    # Base cases \n",
    "    if (x == 0 or x == 1): \n",
    "        return x \n",
    "  \n",
    "    # Staring from 1, try all numbers until \n",
    "    # i*i is greater than or equal to x. \n",
    "    i = 1; result = 1\n",
    "    while (result <= x): \n",
    "      \n",
    "        i += 1\n",
    "        result = i * i \n",
    "      \n",
    "    return i - 1"
   ]
  },
  {
   "cell_type": "code",
   "execution_count": 13,
   "metadata": {},
   "outputs": [
    {
     "name": "stdout",
     "output_type": "stream",
     "text": [
      "3\n"
     ]
    }
   ],
   "source": [
    "x = 9\n",
    "print(floorSqrt(x)) "
   ]
  },
  {
   "cell_type": "code",
   "execution_count": 23,
   "metadata": {},
   "outputs": [],
   "source": [
    "\n",
    "import sys \n",
    "  \n",
    "\n",
    "def print3largest(arr, arr_size): \n",
    "  \n",
    " \n",
    "    if (arr_size < 3): \n",
    "      \n",
    "        print(\" Invalid Input \") \n",
    "        return\n",
    "      \n",
    "    third = first = second = -sys.maxsize \n",
    "      \n",
    "    for i in range(0, arr_size): \n",
    "      \n",
    "\n",
    "        if (arr[i] > first): \n",
    "          \n",
    "            third = second \n",
    "            second = first \n",
    "            first = arr[i] \n",
    "          \n",
    "  \n",
    "        elif (arr[i] > second): \n",
    "          \n",
    "            third = second \n",
    "            second = arr[i] \n",
    "          \n",
    "        elif (arr[i] > third): \n",
    "            third = arr[i] \n",
    "      \n",
    "    print(\"Three largest elements are\", \n",
    "                  first, second, third) \n",
    "    \n",
    "\n",
    "  \n"
   ]
  },
  {
   "cell_type": "code",
   "execution_count": 24,
   "metadata": {},
   "outputs": [
    {
     "name": "stdout",
     "output_type": "stream",
     "text": [
      "Three largest elements are 34 13 12\n"
     ]
    }
   ],
   "source": [
    "arr = [12, 13, 1, 10, 34, 1] \n",
    "n = len(arr) \n",
    "print3largest(arr, n) "
   ]
  },
  {
   "cell_type": "code",
   "execution_count": null,
   "metadata": {},
   "outputs": [],
   "source": [
    "def fu(list):\n",
    "    index=0\n",
    "    for i=0 to length of list\n",
    "        if list[i] > list[index]\n",
    "        index = i \n",
    "    return index"
   ]
  }
 ],
 "metadata": {
  "kernelspec": {
   "display_name": "Python 3",
   "language": "python",
   "name": "python3"
  },
  "language_info": {
   "codemirror_mode": {
    "name": "ipython",
    "version": 3
   },
   "file_extension": ".py",
   "mimetype": "text/x-python",
   "name": "python",
   "nbconvert_exporter": "python",
   "pygments_lexer": "ipython3",
   "version": "3.7.3"
  }
 },
 "nbformat": 4,
 "nbformat_minor": 2
}
